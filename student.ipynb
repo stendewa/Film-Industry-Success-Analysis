{
 "cells": [
  {
   "cell_type": "markdown",
   "metadata": {
    "tags": []
   },
   "source": [
    "# Film Industry Exploratory Data Analysis\n",
    "\n",
    "## Context\n",
    "To help a new film studio navigate the competitive movie industry, we are charged with exploring what types of films are currently doing the best at the box office. We must then translate those findings into actionable insights that the head of your company's new movie studio can use to help decide what type of films to create.\n",
    "\n",
    "This includes examining ratings, budgets (production and marketing), genres, persons (directors & actors attatched to the film) and the audiences preferences. By understanding what is successful, the studio can make informed decisions about the types to develop, ensuring they alight with market demands and maximize profitability.\n",
    "\n",
    "The buisness questions I seek to answer in this analysis are:\n",
    "1. Does the combination of genres affect the profitability of the film?\n",
    "2. Does Release Date Influence Opening Weekend Box Office Success and to what significance?\n",
    "3. Does the number of films done by a director affect the profitability of the film?\n",
    "4. Does Production budget have an effect on how profitable a combination of genres will be?\n",
    "5. Does average rating affect how profitable a film will be?\n",
    "\n",
    "For all the tests done i'll be adopting a **significance value (alpha) or 0.05**\n",
    "\n",
    "## Data\n",
    "I'll be using two datasets and one database;\n",
    "1. im.db from the International Movies Data Base website (link: https://www.imdb.com/)\n",
    "2. tn.movie_budgets.csv.gz from The Numbers website (link: https://www.the-numbers.com/)\n",
    "3. bom.movie_gross.csv.gz from Box Office Mojo website (link: https://www.boxofficemojo.com/)\n"
   ]
  },
  {
   "cell_type": "code",
   "execution_count": 2145,
   "metadata": {
    "tags": []
   },
   "outputs": [],
   "source": [
    "# Loading relevant libraries and modules\n",
    "\n",
    "import pandas as pd\n",
    "import numpy as np\n",
    "import matplotlib.pyplot as plt\n",
    "import seaborn as sns\n",
    "import sqlite3\n"
   ]
  },
  {
   "cell_type": "code",
   "execution_count": 2146,
   "metadata": {
    "tags": []
   },
   "outputs": [],
   "source": [
    "# Loading the data and databases\n",
    "box_mojo_df = pd.read_csv('bom.movie_gross.csv.gz')\n",
    "the_numbers_df = pd.read_csv('tn.movie_budgets.csv.gz')\n",
    "imdb_conn = sqlite3.connect('im.db') # Creates a connection to the database\n",
    "cursor = imdb_conn.cursor() #create cursor"
   ]
  },
  {
   "cell_type": "markdown",
   "metadata": {},
   "source": [
    "## Look at the Columns and Details of The Data"
   ]
  },
  {
   "cell_type": "code",
   "execution_count": 2148,
   "metadata": {
    "tags": []
   },
   "outputs": [
    {
     "name": "stdout",
     "output_type": "stream",
     "text": [
      "This is the persons table contents\n",
      "[('nm0061671', 'Mary Ellen Bauder', None, None, 'miscellaneous,production_manager,producer'), ('nm0061865', 'Joseph Bauer', None, None, 'composer,music_department,sound_department'), ('nm0062070', 'Bruce Baum', None, None, 'miscellaneous,actor,writer'), ('nm0062195', 'Axel Baumann', None, None, 'camera_department,cinematographer,art_department'), ('nm0062798', 'Pete Baxter', None, None, 'production_designer,art_department,set_decorator'), ('nm0062879', 'Ruel S. Bayani', None, None, 'director,production_manager,miscellaneous'), ('nm0063198', 'Bayou', None, None, 'actor'), ('nm0063432', 'Stevie Be-Zet', None, None, 'composer,soundtrack'), ('nm0063618', 'Jeff Beal', 1963.0, None, 'composer,music_department,soundtrack'), ('nm0063750', 'Lindsay Beamish', None, None, 'actress,miscellaneous')]\n",
      "This is the movie ratings table contents\n",
      "[('tt10356526', 8.3, 31), ('tt10384606', 8.9, 559), ('tt1042974', 6.4, 20), ('tt1043726', 4.2, 50352), ('tt1060240', 6.5, 21), ('tt1069246', 6.2, 326), ('tt1094666', 7.0, 1613), ('tt1130982', 6.4, 571), ('tt1156528', 7.2, 265), ('tt1161457', 4.2, 148)]\n",
      "This is the movie basics table contents\n",
      "[('tt0063540', 'Sunghursh', 'Sunghursh', 2013, 175.0, 'Action,Crime,Drama'), ('tt0066787', 'One Day Before the Rainy Season', 'Ashad Ka Ek Din', 2019, 114.0, 'Biography,Drama'), ('tt0069049', 'The Other Side of the Wind', 'The Other Side of the Wind', 2018, 122.0, 'Drama'), ('tt0069204', 'Sabse Bada Sukh', 'Sabse Bada Sukh', 2018, None, 'Comedy,Drama'), ('tt0100275', 'The Wandering Soap Opera', 'La Telenovela Errante', 2017, 80.0, 'Comedy,Drama,Fantasy'), ('tt0111414', 'A Thin Life', 'A Thin Life', 2018, 75.0, 'Comedy'), ('tt0112502', 'Bigfoot', 'Bigfoot', 2017, None, 'Horror,Thriller'), ('tt0137204', 'Joe Finds Grace', 'Joe Finds Grace', 2017, 83.0, 'Adventure,Animation,Comedy'), ('tt0139613', 'O Silêncio', 'O Silêncio', 2012, None, 'Documentary,History'), ('tt0144449', 'Nema aviona za Zagreb', 'Nema aviona za Zagreb', 2012, 82.0, 'Biography')]\n",
      "This is the movie akas table contents\n",
      "[('tt0369610', 10, 'Джурасик свят', 'BG', 'bg', None, None, 0.0), ('tt0369610', 11, 'Jurashikku warudo', 'JP', None, 'imdbDisplay', None, 0.0), ('tt0369610', 12, 'Jurassic World: O Mundo dos Dinossauros', 'BR', None, 'imdbDisplay', None, 0.0), ('tt0369610', 13, 'O Mundo dos Dinossauros', 'BR', None, None, 'short title', 0.0), ('tt0369610', 14, 'Jurassic World', 'FR', None, 'imdbDisplay', None, 0.0), ('tt0369610', 15, 'Jurassic World', 'GR', None, 'imdbDisplay', None, 0.0), ('tt0369610', 16, 'Jurassic World', 'IT', None, 'imdbDisplay', None, 0.0), ('tt0369610', 17, 'Jurski svijet', 'HR', None, 'imdbDisplay', None, 0.0), ('tt0369610', 18, \"Olam ha'Yura\", 'IL', 'he', 'imdbDisplay', None, 0.0), ('tt0369610', 19, 'Jurassic World: Mundo Jurásico', 'MX', None, 'imdbDisplay', None, 0.0)]\n",
      "This is the principals table contents\n",
      "[('tt0111414', 1, 'nm0246005', 'actor', None, '[\"The Man\"]'), ('tt0111414', 2, 'nm0398271', 'director', None, None), ('tt0111414', 3, 'nm3739909', 'producer', 'producer', None), ('tt0323808', 10, 'nm0059247', 'editor', None, None), ('tt0323808', 1, 'nm3579312', 'actress', None, '[\"Beth Boothby\"]'), ('tt0323808', 2, 'nm2694680', 'actor', None, '[\"Steve Thomson\"]'), ('tt0323808', 3, 'nm0574615', 'actor', None, '[\"Sir Lachlan Morrison\"]'), ('tt0323808', 4, 'nm0502652', 'actress', None, '[\"Lady Delia Morrison\"]'), ('tt0323808', 5, 'nm0362736', 'director', None, None), ('tt0323808', 6, 'nm0811056', 'producer', 'producer', None)]\n"
     ]
    }
   ],
   "source": [
    "# A quick peek at the database schema\n",
    "# Define the queries and their corresponding table names\n",
    "queries = [\n",
    "    (\"This is the persons table contents\", \"SELECT * FROM persons LIMIT 10;\"),\n",
    "    (\"This is the movie ratings table contents\", \"SELECT * FROM movie_ratings LIMIT 10;\"),\n",
    "    (\"This is the movie basics table contents\", \"SELECT * FROM movie_basics LIMIT 10;\"),\n",
    "    (\"This is the movie akas table contents\", \"SELECT * FROM movie_akas LIMIT 10;\"),\n",
    "    (\"This is the principals table contents\", \"SELECT * FROM principals LIMIT 10;\")]\n",
    "\n",
    "# Execute the queries and print the results\n",
    "for message, query in queries:\n",
    "    print(message)\n",
    "    cursor.execute(query)\n",
    "    rows = cursor.fetchall()\n",
    "    print(rows)"
   ]
  },
  {
   "cell_type": "code",
   "execution_count": 2149,
   "metadata": {
    "tags": []
   },
   "outputs": [
    {
     "data": {
      "text/html": [
       "<div>\n",
       "<style scoped>\n",
       "    .dataframe tbody tr th:only-of-type {\n",
       "        vertical-align: middle;\n",
       "    }\n",
       "\n",
       "    .dataframe tbody tr th {\n",
       "        vertical-align: top;\n",
       "    }\n",
       "\n",
       "    .dataframe thead th {\n",
       "        text-align: right;\n",
       "    }\n",
       "</style>\n",
       "<table border=\"1\" class=\"dataframe\">\n",
       "  <thead>\n",
       "    <tr style=\"text-align: right;\">\n",
       "      <th></th>\n",
       "      <th>title</th>\n",
       "      <th>studio</th>\n",
       "      <th>domestic_gross</th>\n",
       "      <th>foreign_gross</th>\n",
       "      <th>year</th>\n",
       "    </tr>\n",
       "  </thead>\n",
       "  <tbody>\n",
       "    <tr>\n",
       "      <th>0</th>\n",
       "      <td>Toy Story 3</td>\n",
       "      <td>BV</td>\n",
       "      <td>415000000.0</td>\n",
       "      <td>652000000</td>\n",
       "      <td>2010</td>\n",
       "    </tr>\n",
       "    <tr>\n",
       "      <th>1</th>\n",
       "      <td>Alice in Wonderland (2010)</td>\n",
       "      <td>BV</td>\n",
       "      <td>334200000.0</td>\n",
       "      <td>691300000</td>\n",
       "      <td>2010</td>\n",
       "    </tr>\n",
       "    <tr>\n",
       "      <th>2</th>\n",
       "      <td>Harry Potter and the Deathly Hallows Part 1</td>\n",
       "      <td>WB</td>\n",
       "      <td>296000000.0</td>\n",
       "      <td>664300000</td>\n",
       "      <td>2010</td>\n",
       "    </tr>\n",
       "    <tr>\n",
       "      <th>3</th>\n",
       "      <td>Inception</td>\n",
       "      <td>WB</td>\n",
       "      <td>292600000.0</td>\n",
       "      <td>535700000</td>\n",
       "      <td>2010</td>\n",
       "    </tr>\n",
       "    <tr>\n",
       "      <th>4</th>\n",
       "      <td>Shrek Forever After</td>\n",
       "      <td>P/DW</td>\n",
       "      <td>238700000.0</td>\n",
       "      <td>513900000</td>\n",
       "      <td>2010</td>\n",
       "    </tr>\n",
       "  </tbody>\n",
       "</table>\n",
       "</div>"
      ],
      "text/plain": [
       "                                         title studio  domestic_gross  \\\n",
       "0                                  Toy Story 3     BV     415000000.0   \n",
       "1                   Alice in Wonderland (2010)     BV     334200000.0   \n",
       "2  Harry Potter and the Deathly Hallows Part 1     WB     296000000.0   \n",
       "3                                    Inception     WB     292600000.0   \n",
       "4                          Shrek Forever After   P/DW     238700000.0   \n",
       "\n",
       "  foreign_gross  year  \n",
       "0     652000000  2010  \n",
       "1     691300000  2010  \n",
       "2     664300000  2010  \n",
       "3     535700000  2010  \n",
       "4     513900000  2010  "
      ]
     },
     "execution_count": 2149,
     "metadata": {},
     "output_type": "execute_result"
    }
   ],
   "source": [
    "box_mojo_df.head()"
   ]
  },
  {
   "cell_type": "code",
   "execution_count": 2150,
   "metadata": {
    "tags": []
   },
   "outputs": [
    {
     "data": {
      "text/html": [
       "<div>\n",
       "<style scoped>\n",
       "    .dataframe tbody tr th:only-of-type {\n",
       "        vertical-align: middle;\n",
       "    }\n",
       "\n",
       "    .dataframe tbody tr th {\n",
       "        vertical-align: top;\n",
       "    }\n",
       "\n",
       "    .dataframe thead th {\n",
       "        text-align: right;\n",
       "    }\n",
       "</style>\n",
       "<table border=\"1\" class=\"dataframe\">\n",
       "  <thead>\n",
       "    <tr style=\"text-align: right;\">\n",
       "      <th></th>\n",
       "      <th>id</th>\n",
       "      <th>release_date</th>\n",
       "      <th>movie</th>\n",
       "      <th>production_budget</th>\n",
       "      <th>domestic_gross</th>\n",
       "      <th>worldwide_gross</th>\n",
       "    </tr>\n",
       "  </thead>\n",
       "  <tbody>\n",
       "    <tr>\n",
       "      <th>0</th>\n",
       "      <td>1</td>\n",
       "      <td>Dec 18, 2009</td>\n",
       "      <td>Avatar</td>\n",
       "      <td>$425,000,000</td>\n",
       "      <td>$760,507,625</td>\n",
       "      <td>$2,776,345,279</td>\n",
       "    </tr>\n",
       "    <tr>\n",
       "      <th>1</th>\n",
       "      <td>2</td>\n",
       "      <td>May 20, 2011</td>\n",
       "      <td>Pirates of the Caribbean: On Stranger Tides</td>\n",
       "      <td>$410,600,000</td>\n",
       "      <td>$241,063,875</td>\n",
       "      <td>$1,045,663,875</td>\n",
       "    </tr>\n",
       "    <tr>\n",
       "      <th>2</th>\n",
       "      <td>3</td>\n",
       "      <td>Jun 7, 2019</td>\n",
       "      <td>Dark Phoenix</td>\n",
       "      <td>$350,000,000</td>\n",
       "      <td>$42,762,350</td>\n",
       "      <td>$149,762,350</td>\n",
       "    </tr>\n",
       "    <tr>\n",
       "      <th>3</th>\n",
       "      <td>4</td>\n",
       "      <td>May 1, 2015</td>\n",
       "      <td>Avengers: Age of Ultron</td>\n",
       "      <td>$330,600,000</td>\n",
       "      <td>$459,005,868</td>\n",
       "      <td>$1,403,013,963</td>\n",
       "    </tr>\n",
       "    <tr>\n",
       "      <th>4</th>\n",
       "      <td>5</td>\n",
       "      <td>Dec 15, 2017</td>\n",
       "      <td>Star Wars Ep. VIII: The Last Jedi</td>\n",
       "      <td>$317,000,000</td>\n",
       "      <td>$620,181,382</td>\n",
       "      <td>$1,316,721,747</td>\n",
       "    </tr>\n",
       "  </tbody>\n",
       "</table>\n",
       "</div>"
      ],
      "text/plain": [
       "   id  release_date                                        movie  \\\n",
       "0   1  Dec 18, 2009                                       Avatar   \n",
       "1   2  May 20, 2011  Pirates of the Caribbean: On Stranger Tides   \n",
       "2   3   Jun 7, 2019                                 Dark Phoenix   \n",
       "3   4   May 1, 2015                      Avengers: Age of Ultron   \n",
       "4   5  Dec 15, 2017            Star Wars Ep. VIII: The Last Jedi   \n",
       "\n",
       "  production_budget domestic_gross worldwide_gross  \n",
       "0      $425,000,000   $760,507,625  $2,776,345,279  \n",
       "1      $410,600,000   $241,063,875  $1,045,663,875  \n",
       "2      $350,000,000    $42,762,350    $149,762,350  \n",
       "3      $330,600,000   $459,005,868  $1,403,013,963  \n",
       "4      $317,000,000   $620,181,382  $1,316,721,747  "
      ]
     },
     "execution_count": 2150,
     "metadata": {},
     "output_type": "execute_result"
    }
   ],
   "source": [
    "the_numbers_df.head()"
   ]
  },
  {
   "cell_type": "code",
   "execution_count": 2151,
   "metadata": {
    "tags": []
   },
   "outputs": [
    {
     "name": "stdout",
     "output_type": "stream",
     "text": [
      "<class 'pandas.core.frame.DataFrame'>\n",
      "RangeIndex: 5782 entries, 0 to 5781\n",
      "Data columns (total 6 columns):\n",
      " #   Column             Non-Null Count  Dtype \n",
      "---  ------             --------------  ----- \n",
      " 0   id                 5782 non-null   int64 \n",
      " 1   release_date       5782 non-null   object\n",
      " 2   movie              5782 non-null   object\n",
      " 3   production_budget  5782 non-null   object\n",
      " 4   domestic_gross     5782 non-null   object\n",
      " 5   worldwide_gross    5782 non-null   object\n",
      "dtypes: int64(1), object(5)\n",
      "memory usage: 271.2+ KB\n"
     ]
    }
   ],
   "source": [
    "the_numbers_df.info()"
   ]
  },
  {
   "cell_type": "code",
   "execution_count": 2152,
   "metadata": {
    "tags": []
   },
   "outputs": [
    {
     "name": "stdout",
     "output_type": "stream",
     "text": [
      "<class 'pandas.core.frame.DataFrame'>\n",
      "RangeIndex: 3387 entries, 0 to 3386\n",
      "Data columns (total 5 columns):\n",
      " #   Column          Non-Null Count  Dtype  \n",
      "---  ------          --------------  -----  \n",
      " 0   title           3387 non-null   object \n",
      " 1   studio          3382 non-null   object \n",
      " 2   domestic_gross  3359 non-null   float64\n",
      " 3   foreign_gross   2037 non-null   object \n",
      " 4   year            3387 non-null   int64  \n",
      "dtypes: float64(1), int64(1), object(3)\n",
      "memory usage: 132.4+ KB\n"
     ]
    }
   ],
   "source": [
    "box_mojo_df.info()"
   ]
  },
  {
   "cell_type": "markdown",
   "metadata": {},
   "source": [
    "# Data Preparation"
   ]
  },
  {
   "cell_type": "markdown",
   "metadata": {},
   "source": [
    "### 1. Clean The Box Mojo Data\n",
    "The foreign gross from the box_mojo dataset is missing over 1000 values. To mitigate this we'll drop the column and use the_numbers_df dataset to create a column with just the foreign gross as worldwide gross is a sum of foreign and domestic as implied in thier website glossary (https://www.the-numbers.com/glossary)."
   ]
  },
  {
   "cell_type": "code",
   "execution_count": 2155,
   "metadata": {
    "tags": []
   },
   "outputs": [
    {
     "data": {
      "text/plain": [
       "title                0\n",
       "studio               5\n",
       "domestic_gross      28\n",
       "foreign_gross     1350\n",
       "year                 0\n",
       "dtype: int64"
      ]
     },
     "execution_count": 2155,
     "metadata": {},
     "output_type": "execute_result"
    }
   ],
   "source": [
    "box_mojo_df.isnull().sum()"
   ]
  },
  {
   "cell_type": "code",
   "execution_count": 2156,
   "metadata": {
    "tags": []
   },
   "outputs": [],
   "source": [
    "box_mojo_df = box_mojo_df.drop('foreign_gross', axis=1)"
   ]
  },
  {
   "cell_type": "markdown",
   "metadata": {},
   "source": [
    "### 2. Clean The Numbers Data"
   ]
  },
  {
   "cell_type": "code",
   "execution_count": 2158,
   "metadata": {
    "tags": []
   },
   "outputs": [],
   "source": [
    "# Remove the dollar sign,$ and the commas ',' from the columns and turn them into numeric values\n",
    "\n",
    "the_numbers_df['production_budget'] = pd.to_numeric(the_numbers_df['production_budget'].replace({'\\$': '', ',': ''}, regex=True))\n",
    "the_numbers_df['domestic_gross'] = pd.to_numeric(the_numbers_df['domestic_gross'].replace({'\\$': '', ',': ''}, regex=True))\n",
    "the_numbers_df['worldwide_gross'] = pd.to_numeric(the_numbers_df['worldwide_gross'].replace({'\\$': '', ',': ''}, regex=True))\n"
   ]
  },
  {
   "cell_type": "code",
   "execution_count": 2159,
   "metadata": {
    "tags": []
   },
   "outputs": [],
   "source": [
    "# Create a foreign_gross column using the values of worldwide and domestic gross\n",
    "the_numbers_df['foreign_gross'] = the_numbers_df['worldwide_gross'] - the_numbers_df['domestic_gross']"
   ]
  },
  {
   "cell_type": "code",
   "execution_count": 2160,
   "metadata": {
    "tags": []
   },
   "outputs": [
    {
     "name": "stdout",
     "output_type": "stream",
     "text": [
      "<class 'pandas.core.frame.DataFrame'>\n",
      "Index: 5782 entries, 0 to 2\n",
      "Data columns (total 9 columns):\n",
      " #   Column             Non-Null Count  Dtype         \n",
      "---  ------             --------------  -----         \n",
      " 0   id                 5782 non-null   int64         \n",
      " 1   release_date       5782 non-null   datetime64[ns]\n",
      " 2   movie              5782 non-null   object        \n",
      " 3   production_budget  5782 non-null   int64         \n",
      " 4   domestic_gross     5782 non-null   int64         \n",
      " 5   worldwide_gross    5782 non-null   int64         \n",
      " 6   foreign_gross      5782 non-null   int64         \n",
      " 7   year               5782 non-null   int32         \n",
      " 8   profit             5782 non-null   int64         \n",
      "dtypes: datetime64[ns](1), int32(1), int64(6), object(1)\n",
      "memory usage: 429.1+ KB\n"
     ]
    }
   ],
   "source": [
    "# Convert release_date column into a datetime object and create a year column and a profit column\n",
    "the_numbers_df['release_date'] = pd.to_datetime(the_numbers_df['release_date'], format='%b %d, %Y')\n",
    "the_numbers_df['year'] = the_numbers_df['release_date'].dt.year\n",
    "the_numbers_df.loc[:, 'profit'] = the_numbers_df['worldwide_gross'] - the_numbers_df['production_budget']\n",
    "the_numbers_df = the_numbers_df.sort_values(by='profit', ascending=False)\n",
    "the_numbers_df.info()"
   ]
  },
  {
   "cell_type": "code",
   "execution_count": 2161,
   "metadata": {
    "tags": []
   },
   "outputs": [
    {
     "name": "stdout",
     "output_type": "stream",
     "text": [
      "<class 'pandas.core.frame.DataFrame'>\n",
      "RangeIndex: 3387 entries, 0 to 3386\n",
      "Data columns (total 4 columns):\n",
      " #   Column          Non-Null Count  Dtype  \n",
      "---  ------          --------------  -----  \n",
      " 0   title           3387 non-null   object \n",
      " 1   studio          3382 non-null   object \n",
      " 2   domestic_gross  3359 non-null   float64\n",
      " 3   year            3387 non-null   int64  \n",
      "dtypes: float64(1), int64(1), object(2)\n",
      "memory usage: 106.0+ KB\n"
     ]
    }
   ],
   "source": [
    "# Check for Duplicates and Drop them\n",
    "the_numbers_df = the_numbers_df.drop_duplicates(subset=['movie'], keep='last')\n",
    "box_mojo_df.dropna()\n",
    "box_mojo_df.info()"
   ]
  },
  {
   "cell_type": "markdown",
   "metadata": {},
   "source": [
    "## Use the imdb Database to select relevant information into a dataframe and Clean the data as imdb_df\n",
    "\n",
    "I'll use the im.db database to create a dataframe with genre, director, movie title, region, averagerating and number of votes."
   ]
  },
  {
   "cell_type": "code",
   "execution_count": 2163,
   "metadata": {
    "tags": []
   },
   "outputs": [
    {
     "data": {
      "text/html": [
       "<div>\n",
       "<style scoped>\n",
       "    .dataframe tbody tr th:only-of-type {\n",
       "        vertical-align: middle;\n",
       "    }\n",
       "\n",
       "    .dataframe tbody tr th {\n",
       "        vertical-align: top;\n",
       "    }\n",
       "\n",
       "    .dataframe thead th {\n",
       "        text-align: right;\n",
       "    }\n",
       "</style>\n",
       "<table border=\"1\" class=\"dataframe\">\n",
       "  <thead>\n",
       "    <tr style=\"text-align: right;\">\n",
       "      <th></th>\n",
       "      <th>primary_title</th>\n",
       "      <th>genres</th>\n",
       "      <th>primary_name</th>\n",
       "      <th>averagerating</th>\n",
       "    </tr>\n",
       "  </thead>\n",
       "  <tbody>\n",
       "    <tr>\n",
       "      <th>0</th>\n",
       "      <td>Paano na kaya</td>\n",
       "      <td>Drama,Romance</td>\n",
       "      <td>Ruel S. Bayani</td>\n",
       "      <td>6.4</td>\n",
       "    </tr>\n",
       "    <tr>\n",
       "      <th>1</th>\n",
       "      <td>Paano na kaya</td>\n",
       "      <td>Drama,Romance</td>\n",
       "      <td>Ruel S. Bayani</td>\n",
       "      <td>6.4</td>\n",
       "    </tr>\n",
       "    <tr>\n",
       "      <th>2</th>\n",
       "      <td>Paano na kaya</td>\n",
       "      <td>Drama,Romance</td>\n",
       "      <td>Ruel S. Bayani</td>\n",
       "      <td>6.4</td>\n",
       "    </tr>\n",
       "    <tr>\n",
       "      <th>3</th>\n",
       "      <td>Paano na kaya</td>\n",
       "      <td>Drama,Romance</td>\n",
       "      <td>Ruel S. Bayani</td>\n",
       "      <td>6.4</td>\n",
       "    </tr>\n",
       "    <tr>\n",
       "      <th>4</th>\n",
       "      <td>No Other Woman</td>\n",
       "      <td>Drama,Romance,Thriller</td>\n",
       "      <td>Ruel S. Bayani</td>\n",
       "      <td>6.4</td>\n",
       "    </tr>\n",
       "  </tbody>\n",
       "</table>\n",
       "</div>"
      ],
      "text/plain": [
       "    primary_title                  genres    primary_name  averagerating\n",
       "0   Paano na kaya           Drama,Romance  Ruel S. Bayani            6.4\n",
       "1   Paano na kaya           Drama,Romance  Ruel S. Bayani            6.4\n",
       "2   Paano na kaya           Drama,Romance  Ruel S. Bayani            6.4\n",
       "3   Paano na kaya           Drama,Romance  Ruel S. Bayani            6.4\n",
       "4  No Other Woman  Drama,Romance,Thriller  Ruel S. Bayani            6.4"
      ]
     },
     "execution_count": 2163,
     "metadata": {},
     "output_type": "execute_result"
    }
   ],
   "source": [
    "#Select the primary title(movie title), genres, primary_name(director) and the average rating form the database\n",
    "#Turn the selected information into a dataframe and close the connection to the database\n",
    "imdb_query = \"\"\"\n",
    "SELECT\n",
    "    mb.primary_title, \n",
    "    mb.genres,\n",
    "    p.primary_name,\n",
    "    mr.averagerating\n",
    "FROM movie_basics AS mb\n",
    "JOIN directors AS d\n",
    "    ON mb.movie_id = d.movie_id\n",
    "JOIN persons AS p\n",
    "    ON d.person_id = p.person_id\n",
    "JOIN movie_akas AS ma\n",
    "    ON mb.movie_id = ma.movie_id\n",
    "JOIN movie_ratings as mr\n",
    "    ON mr.movie_id = mb.movie_id\n",
    "WHERE p.primary_profession LIKE '%director%';\n",
    "\"\"\"\n",
    "imdb_df = pd.read_sql(imdb_query, imdb_conn)\n",
    "imdb_conn.close()\n",
    "imdb_df.head()"
   ]
  },
  {
   "cell_type": "code",
   "execution_count": 2164,
   "metadata": {
    "tags": []
   },
   "outputs": [
    {
     "data": {
      "text/html": [
       "<div>\n",
       "<style scoped>\n",
       "    .dataframe tbody tr th:only-of-type {\n",
       "        vertical-align: middle;\n",
       "    }\n",
       "\n",
       "    .dataframe tbody tr th {\n",
       "        vertical-align: top;\n",
       "    }\n",
       "\n",
       "    .dataframe thead th {\n",
       "        text-align: right;\n",
       "    }\n",
       "</style>\n",
       "<table border=\"1\" class=\"dataframe\">\n",
       "  <thead>\n",
       "    <tr style=\"text-align: right;\">\n",
       "      <th></th>\n",
       "      <th>primary_title</th>\n",
       "      <th>genres</th>\n",
       "      <th>primary_name</th>\n",
       "      <th>averagerating</th>\n",
       "    </tr>\n",
       "  </thead>\n",
       "  <tbody>\n",
       "    <tr>\n",
       "      <th>3</th>\n",
       "      <td>Paano na kaya</td>\n",
       "      <td>Drama,Romance</td>\n",
       "      <td>Ruel S. Bayani</td>\n",
       "      <td>6.4</td>\n",
       "    </tr>\n",
       "    <tr>\n",
       "      <th>6</th>\n",
       "      <td>No Other Woman</td>\n",
       "      <td>Drama,Romance,Thriller</td>\n",
       "      <td>Ruel S. Bayani</td>\n",
       "      <td>6.4</td>\n",
       "    </tr>\n",
       "    <tr>\n",
       "      <th>9</th>\n",
       "      <td>One More Try</td>\n",
       "      <td>Drama</td>\n",
       "      <td>Ruel S. Bayani</td>\n",
       "      <td>5.8</td>\n",
       "    </tr>\n",
       "    <tr>\n",
       "      <th>10</th>\n",
       "      <td>Not Such a Bad Guy: Conversations with Dabney ...</td>\n",
       "      <td>Documentary</td>\n",
       "      <td>Bryan Beasley</td>\n",
       "      <td>8.9</td>\n",
       "    </tr>\n",
       "    <tr>\n",
       "      <th>17</th>\n",
       "      <td>The Cursed</td>\n",
       "      <td>Horror,Romance,Thriller</td>\n",
       "      <td>Joel Bender</td>\n",
       "      <td>5.9</td>\n",
       "    </tr>\n",
       "  </tbody>\n",
       "</table>\n",
       "</div>"
      ],
      "text/plain": [
       "                                        primary_title  \\\n",
       "3                                       Paano na kaya   \n",
       "6                                      No Other Woman   \n",
       "9                                        One More Try   \n",
       "10  Not Such a Bad Guy: Conversations with Dabney ...   \n",
       "17                                         The Cursed   \n",
       "\n",
       "                     genres    primary_name  averagerating  \n",
       "3             Drama,Romance  Ruel S. Bayani            6.4  \n",
       "6    Drama,Romance,Thriller  Ruel S. Bayani            6.4  \n",
       "9                     Drama  Ruel S. Bayani            5.8  \n",
       "10              Documentary   Bryan Beasley            8.9  \n",
       "17  Horror,Romance,Thriller     Joel Bender            5.9  "
      ]
     },
     "execution_count": 2164,
     "metadata": {},
     "output_type": "execute_result"
    }
   ],
   "source": [
    "# Drop duplicate movie titles\n",
    "imdb_df = imdb_df.drop_duplicates(subset=['primary_title'], keep='last')\n",
    "imdb_df.head()"
   ]
  },
  {
   "cell_type": "code",
   "execution_count": 2165,
   "metadata": {
    "tags": []
   },
   "outputs": [
    {
     "name": "stdout",
     "output_type": "stream",
     "text": [
      "<class 'pandas.core.frame.DataFrame'>\n",
      "Index: 61478 entries, 3 to 663468\n",
      "Data columns (total 4 columns):\n",
      " #   Column         Non-Null Count  Dtype  \n",
      "---  ------         --------------  -----  \n",
      " 0   primary_title  61478 non-null  object \n",
      " 1   genres         60932 non-null  object \n",
      " 2   primary_name   61478 non-null  object \n",
      " 3   averagerating  61478 non-null  float64\n",
      "dtypes: float64(1), object(3)\n",
      "memory usage: 2.3+ MB\n"
     ]
    },
    {
     "data": {
      "text/html": [
       "<div>\n",
       "<style scoped>\n",
       "    .dataframe tbody tr th:only-of-type {\n",
       "        vertical-align: middle;\n",
       "    }\n",
       "\n",
       "    .dataframe tbody tr th {\n",
       "        vertical-align: top;\n",
       "    }\n",
       "\n",
       "    .dataframe thead th {\n",
       "        text-align: right;\n",
       "    }\n",
       "</style>\n",
       "<table border=\"1\" class=\"dataframe\">\n",
       "  <thead>\n",
       "    <tr style=\"text-align: right;\">\n",
       "      <th></th>\n",
       "      <th>primary_title</th>\n",
       "      <th>genres</th>\n",
       "      <th>primary_name</th>\n",
       "      <th>averagerating</th>\n",
       "    </tr>\n",
       "  </thead>\n",
       "  <tbody>\n",
       "    <tr>\n",
       "      <th>3</th>\n",
       "      <td>Paano na kaya</td>\n",
       "      <td>Drama,Romance</td>\n",
       "      <td>Ruel S. Bayani</td>\n",
       "      <td>6.4</td>\n",
       "    </tr>\n",
       "    <tr>\n",
       "      <th>6</th>\n",
       "      <td>No Other Woman</td>\n",
       "      <td>Drama,Romance,Thriller</td>\n",
       "      <td>Ruel S. Bayani</td>\n",
       "      <td>6.4</td>\n",
       "    </tr>\n",
       "    <tr>\n",
       "      <th>9</th>\n",
       "      <td>One More Try</td>\n",
       "      <td>Drama</td>\n",
       "      <td>Ruel S. Bayani</td>\n",
       "      <td>5.8</td>\n",
       "    </tr>\n",
       "    <tr>\n",
       "      <th>10</th>\n",
       "      <td>Not Such a Bad Guy: Conversations with Dabney ...</td>\n",
       "      <td>Documentary</td>\n",
       "      <td>Bryan Beasley</td>\n",
       "      <td>8.9</td>\n",
       "    </tr>\n",
       "    <tr>\n",
       "      <th>17</th>\n",
       "      <td>The Cursed</td>\n",
       "      <td>Horror,Romance,Thriller</td>\n",
       "      <td>Joel Bender</td>\n",
       "      <td>5.9</td>\n",
       "    </tr>\n",
       "    <tr>\n",
       "      <th>...</th>\n",
       "      <td>...</td>\n",
       "      <td>...</td>\n",
       "      <td>...</td>\n",
       "      <td>...</td>\n",
       "    </tr>\n",
       "    <tr>\n",
       "      <th>663453</th>\n",
       "      <td>Porisadaya</td>\n",
       "      <td>Action,Crime,Drama</td>\n",
       "      <td>Sirithunga Perera</td>\n",
       "      <td>7.7</td>\n",
       "    </tr>\n",
       "    <tr>\n",
       "      <th>663456</th>\n",
       "      <td>The Jack King Affair</td>\n",
       "      <td>Documentary</td>\n",
       "      <td>Nicolas Cotto</td>\n",
       "      <td>6.4</td>\n",
       "    </tr>\n",
       "    <tr>\n",
       "      <th>663459</th>\n",
       "      <td>Shaghaltna Arjantenia</td>\n",
       "      <td>Comedy</td>\n",
       "      <td>Hamed Saleh</td>\n",
       "      <td>6.5</td>\n",
       "    </tr>\n",
       "    <tr>\n",
       "      <th>663465</th>\n",
       "      <td>Late Life: The Chien-Ming Wang Story</td>\n",
       "      <td>Documentary,Sport</td>\n",
       "      <td>Frank W Chen</td>\n",
       "      <td>5.8</td>\n",
       "    </tr>\n",
       "    <tr>\n",
       "      <th>663468</th>\n",
       "      <td>Polskie gówno</td>\n",
       "      <td>Comedy,Musical</td>\n",
       "      <td>Grzegorz Jankowski</td>\n",
       "      <td>5.2</td>\n",
       "    </tr>\n",
       "  </tbody>\n",
       "</table>\n",
       "<p>60932 rows × 4 columns</p>\n",
       "</div>"
      ],
      "text/plain": [
       "                                            primary_title  \\\n",
       "3                                           Paano na kaya   \n",
       "6                                          No Other Woman   \n",
       "9                                            One More Try   \n",
       "10      Not Such a Bad Guy: Conversations with Dabney ...   \n",
       "17                                             The Cursed   \n",
       "...                                                   ...   \n",
       "663453                                         Porisadaya   \n",
       "663456                               The Jack King Affair   \n",
       "663459                              Shaghaltna Arjantenia   \n",
       "663465               Late Life: The Chien-Ming Wang Story   \n",
       "663468                                      Polskie gówno   \n",
       "\n",
       "                         genres        primary_name  averagerating  \n",
       "3                 Drama,Romance      Ruel S. Bayani            6.4  \n",
       "6        Drama,Romance,Thriller      Ruel S. Bayani            6.4  \n",
       "9                         Drama      Ruel S. Bayani            5.8  \n",
       "10                  Documentary       Bryan Beasley            8.9  \n",
       "17      Horror,Romance,Thriller         Joel Bender            5.9  \n",
       "...                         ...                 ...            ...  \n",
       "663453       Action,Crime,Drama   Sirithunga Perera            7.7  \n",
       "663456              Documentary       Nicolas Cotto            6.4  \n",
       "663459                   Comedy         Hamed Saleh            6.5  \n",
       "663465        Documentary,Sport        Frank W Chen            5.8  \n",
       "663468           Comedy,Musical  Grzegorz Jankowski            5.2  \n",
       "\n",
       "[60932 rows x 4 columns]"
      ]
     },
     "execution_count": 2165,
     "metadata": {},
     "output_type": "execute_result"
    }
   ],
   "source": [
    "# Check for Null values and drop them\n",
    "imdb_df.info()\n",
    "imdb_df.dropna()"
   ]
  },
  {
   "cell_type": "markdown",
   "metadata": {},
   "source": [
    "### Rename the Primary key into movie_title and Merge the datasets"
   ]
  },
  {
   "cell_type": "code",
   "execution_count": 2167,
   "metadata": {
    "tags": []
   },
   "outputs": [],
   "source": [
    "# Rename the movie title columns to movie_title which we'll use as the primary key\n",
    "imdb_df = imdb_df.rename(columns={'primary_title': 'movie_title'})\n",
    "the_numbers_df = the_numbers_df.rename(columns={'movie': 'movie_title'})\n",
    "box_mojo_df = box_mojo_df.rename(columns={'title': 'movie_title'})"
   ]
  },
  {
   "cell_type": "markdown",
   "metadata": {},
   "source": [
    "#### The data we merge from numbers and box mojo contain the most accurate representation of our population data using our dependant variable, thus the result **movie_data** will be used as our population data later on"
   ]
  },
  {
   "cell_type": "code",
   "execution_count": 2169,
   "metadata": {
    "tags": []
   },
   "outputs": [
    {
     "name": "stdout",
     "output_type": "stream",
     "text": [
      "<class 'pandas.core.frame.DataFrame'>\n",
      "RangeIndex: 1238 entries, 0 to 1237\n",
      "Data columns (total 12 columns):\n",
      " #   Column             Non-Null Count  Dtype         \n",
      "---  ------             --------------  -----         \n",
      " 0   movie_title        1238 non-null   object        \n",
      " 1   studio             1237 non-null   object        \n",
      " 2   domestic_gross_x   1236 non-null   float64       \n",
      " 3   year_x             1238 non-null   int64         \n",
      " 4   id                 1238 non-null   int64         \n",
      " 5   release_date       1238 non-null   datetime64[ns]\n",
      " 6   production_budget  1238 non-null   int64         \n",
      " 7   domestic_gross_y   1238 non-null   int64         \n",
      " 8   worldwide_gross    1238 non-null   int64         \n",
      " 9   foreign_gross      1238 non-null   int64         \n",
      " 10  year_y             1238 non-null   int32         \n",
      " 11  profit             1238 non-null   int64         \n",
      "dtypes: datetime64[ns](1), float64(1), int32(1), int64(7), object(2)\n",
      "memory usage: 111.4+ KB\n"
     ]
    }
   ],
   "source": [
    "# First merge the numbers and box mojo dataframes. \n",
    "# This will be used for to test if the distribution matches with our final dataset\n",
    "\n",
    "movie_data = pd.merge(box_mojo_df, the_numbers_df, on=['movie_title'], how='inner')\n",
    "movie_data.info()"
   ]
  },
  {
   "cell_type": "code",
   "execution_count": 2170,
   "metadata": {
    "tags": []
   },
   "outputs": [
    {
     "name": "stdout",
     "output_type": "stream",
     "text": [
      "<class 'pandas.core.frame.DataFrame'>\n",
      "RangeIndex: 1077 entries, 0 to 1076\n",
      "Data columns (total 15 columns):\n",
      " #   Column             Non-Null Count  Dtype         \n",
      "---  ------             --------------  -----         \n",
      " 0   movie_title        1077 non-null   object        \n",
      " 1   studio             1077 non-null   object        \n",
      " 2   domestic_gross_x   1076 non-null   float64       \n",
      " 3   year_x             1077 non-null   int64         \n",
      " 4   id                 1077 non-null   int64         \n",
      " 5   release_date       1077 non-null   datetime64[ns]\n",
      " 6   production_budget  1077 non-null   int64         \n",
      " 7   domestic_gross_y   1077 non-null   int64         \n",
      " 8   worldwide_gross    1077 non-null   int64         \n",
      " 9   foreign_gross      1077 non-null   int64         \n",
      " 10  year_y             1077 non-null   int32         \n",
      " 11  profit             1077 non-null   int64         \n",
      " 12  genres             1073 non-null   object        \n",
      " 13  primary_name       1077 non-null   object        \n",
      " 14  averagerating      1077 non-null   float64       \n",
      "dtypes: datetime64[ns](1), float64(2), int32(1), int64(7), object(4)\n",
      "memory usage: 122.1+ KB\n"
     ]
    }
   ],
   "source": [
    "# Then finally merge with our imdb dataframe\n",
    "\n",
    "final_movie_df = pd.merge(movie_data, imdb_df, on=['movie_title'], how='inner')\n",
    "final_movie_df.info()"
   ]
  },
  {
   "cell_type": "code",
   "execution_count": 2171,
   "metadata": {
    "tags": []
   },
   "outputs": [
    {
     "name": "stdout",
     "output_type": "stream",
     "text": [
      "<class 'pandas.core.frame.DataFrame'>\n",
      "RangeIndex: 1077 entries, 0 to 1076\n",
      "Data columns (total 10 columns):\n",
      " #   Column             Non-Null Count  Dtype  \n",
      "---  ------             --------------  -----  \n",
      " 0   movie_title        1077 non-null   object \n",
      " 1   studio             1077 non-null   object \n",
      " 2   production_budget  1077 non-null   int64  \n",
      " 3   year               1077 non-null   int32  \n",
      " 4   gross_profit       1077 non-null   int64  \n",
      " 5   genres             1073 non-null   object \n",
      " 6   director           1077 non-null   object \n",
      " 7   averagerating      1077 non-null   float64\n",
      " 8   release_month      1077 non-null   object \n",
      " 9   release_day        1077 non-null   object \n",
      "dtypes: float64(1), int32(1), int64(2), object(6)\n",
      "memory usage: 80.1+ KB\n"
     ]
    }
   ],
   "source": [
    "# Rename Columns\n",
    "final_movie_df = final_movie_df.rename(columns={'year_y': 'year', 'profit': 'gross_profit', 'primary_name': 'director'})\n",
    "# Create columns representing the month and day or release\n",
    "final_movie_df['release_month'] = final_movie_df['release_date'].dt.strftime('%b')\n",
    "final_movie_df['release_day'] = final_movie_df['release_date'].dt.strftime('%d')\n",
    "# Drop irrelevant columns\n",
    "final_movie_df = final_movie_df.drop(columns=['id', 'release_date','domestic_gross_x', 'year_x', 'domestic_gross_y','worldwide_gross','foreign_gross'])\n",
    "final_movie_df.info()"
   ]
  },
  {
   "cell_type": "code",
   "execution_count": 2172,
   "metadata": {
    "tags": []
   },
   "outputs": [
    {
     "data": {
      "text/html": [
       "<div>\n",
       "<style scoped>\n",
       "    .dataframe tbody tr th:only-of-type {\n",
       "        vertical-align: middle;\n",
       "    }\n",
       "\n",
       "    .dataframe tbody tr th {\n",
       "        vertical-align: top;\n",
       "    }\n",
       "\n",
       "    .dataframe thead th {\n",
       "        text-align: right;\n",
       "    }\n",
       "</style>\n",
       "<table border=\"1\" class=\"dataframe\">\n",
       "  <thead>\n",
       "    <tr style=\"text-align: right;\">\n",
       "      <th></th>\n",
       "      <th>production_budget</th>\n",
       "      <th>year</th>\n",
       "      <th>gross_profit</th>\n",
       "      <th>averagerating</th>\n",
       "    </tr>\n",
       "  </thead>\n",
       "  <tbody>\n",
       "    <tr>\n",
       "      <th>count</th>\n",
       "      <td>1.077000e+03</td>\n",
       "      <td>1077.000000</td>\n",
       "      <td>1.077000e+03</td>\n",
       "      <td>1077.000000</td>\n",
       "    </tr>\n",
       "    <tr>\n",
       "      <th>mean</th>\n",
       "      <td>4.829740e+07</td>\n",
       "      <td>2013.505107</td>\n",
       "      <td>1.108624e+08</td>\n",
       "      <td>6.450139</td>\n",
       "    </tr>\n",
       "    <tr>\n",
       "      <th>std</th>\n",
       "      <td>5.656255e+07</td>\n",
       "      <td>3.344699</td>\n",
       "      <td>2.024068e+08</td>\n",
       "      <td>0.993020</td>\n",
       "    </tr>\n",
       "    <tr>\n",
       "      <th>min</th>\n",
       "      <td>1.000000e+05</td>\n",
       "      <td>1967.000000</td>\n",
       "      <td>-1.104502e+08</td>\n",
       "      <td>1.600000</td>\n",
       "    </tr>\n",
       "    <tr>\n",
       "      <th>25%</th>\n",
       "      <td>1.100000e+07</td>\n",
       "      <td>2011.000000</td>\n",
       "      <td>2.837111e+06</td>\n",
       "      <td>5.900000</td>\n",
       "    </tr>\n",
       "    <tr>\n",
       "      <th>50%</th>\n",
       "      <td>2.800000e+07</td>\n",
       "      <td>2014.000000</td>\n",
       "      <td>3.410859e+07</td>\n",
       "      <td>6.500000</td>\n",
       "    </tr>\n",
       "    <tr>\n",
       "      <th>75%</th>\n",
       "      <td>6.000000e+07</td>\n",
       "      <td>2016.000000</td>\n",
       "      <td>1.224983e+08</td>\n",
       "      <td>7.100000</td>\n",
       "    </tr>\n",
       "    <tr>\n",
       "      <th>max</th>\n",
       "      <td>4.106000e+08</td>\n",
       "      <td>2018.000000</td>\n",
       "      <td>1.748134e+09</td>\n",
       "      <td>9.200000</td>\n",
       "    </tr>\n",
       "  </tbody>\n",
       "</table>\n",
       "</div>"
      ],
      "text/plain": [
       "       production_budget         year  gross_profit  averagerating\n",
       "count       1.077000e+03  1077.000000  1.077000e+03    1077.000000\n",
       "mean        4.829740e+07  2013.505107  1.108624e+08       6.450139\n",
       "std         5.656255e+07     3.344699  2.024068e+08       0.993020\n",
       "min         1.000000e+05  1967.000000 -1.104502e+08       1.600000\n",
       "25%         1.100000e+07  2011.000000  2.837111e+06       5.900000\n",
       "50%         2.800000e+07  2014.000000  3.410859e+07       6.500000\n",
       "75%         6.000000e+07  2016.000000  1.224983e+08       7.100000\n",
       "max         4.106000e+08  2018.000000  1.748134e+09       9.200000"
      ]
     },
     "execution_count": 2172,
     "metadata": {},
     "output_type": "execute_result"
    }
   ],
   "source": [
    "final_movie_df.describe()"
   ]
  },
  {
   "cell_type": "markdown",
   "metadata": {},
   "source": [
    "## Statistical Analysis of the Variable "
   ]
  },
  {
   "cell_type": "markdown",
   "metadata": {},
   "source": [
    "**Gross profit** being our dependant variable y, we'll check how it represents the population data we just cleaned i.e Wether it's a linear or a non-linear distribution."
   ]
  },
  {
   "cell_type": "markdown",
   "metadata": {},
   "source": [
    "### Check the normality of our data using a histogram"
   ]
  },
  {
   "cell_type": "code",
   "execution_count": 2176,
   "metadata": {},
   "outputs": [
    {
     "name": "stderr",
     "output_type": "stream",
     "text": [
      "C:\\Users\\ADMIN\\anaconda3\\Lib\\site-packages\\seaborn\\_oldcore.py:1119: FutureWarning: use_inf_as_na option is deprecated and will be removed in a future version. Convert inf values to NaN before operating instead.\n",
      "  with pd.option_context('mode.use_inf_as_na', True):\n"
     ]
    },
    {
     "data": {
      "text/plain": [
       "Text(0.5, 1.0, 'Histogram of Gross Profit')"
      ]
     },
     "execution_count": 2176,
     "metadata": {},
     "output_type": "execute_result"
    },
    {
     "data": {
      "image/png": "[encoded data removed]",
      "text/plain": [
       "<Figure size 2100x500 with 1 Axes>"
      ]
     },
     "metadata": {},
     "output_type": "display_data"
    }
   ],
   "source": [
    "# Histogram\n",
    "plt.figure(figsize=(21, 5))\n",
    "plt.subplot(1, 3, 1)\n",
    "sns.histplot(final_movie_df['gross_profit'], bins=30, kde=False)\n",
    "plt.title('Histogram of Gross Profit')\n"
   ]
  },
  {
   "cell_type": "markdown",
   "metadata": {
    "tags": []
   },
   "source": [
    "## Initial Exploratory Analysis"
   ]
  },
  {
   "cell_type": "markdown",
   "metadata": {
    "tags": []
   },
   "source": [
    "### Genre\n",
    "We can use probability mass function to measure the likelyhood a genre is profitable by using the final_movie_df. The number of outcomes is finite and the outcome is a set of values."
   ]
  },
  {
   "cell_type": "code",
   "execution_count": 2179,
   "metadata": {
    "tags": []
   },
   "outputs": [
    {
     "data": {
      "text/plain": [
       "genres\n",
       "Drama                         52\n",
       "Adventure,Animation,Comedy    47\n",
       "Action,Adventure,Sci-Fi       39\n",
       "Comedy,Drama,Romance          38\n",
       "Comedy,Drama                  35\n",
       "                              ..\n",
       "Comedy,Drama,Sport             1\n",
       "Action,Family,Fantasy          1\n",
       "Comedy,Horror,Romance          1\n",
       "Drama,Mystery                  1\n",
       "Adventure,Drama                1\n",
       "Name: count, Length: 200, dtype: int64"
      ]
     },
     "execution_count": 2179,
     "metadata": {},
     "output_type": "execute_result"
    }
   ],
   "source": [
    "genre_counts = final_movie_df['genres'].value_counts()\n",
    "genre_counts"
   ]
  },
  {
   "cell_type": "code",
   "execution_count": 2180,
   "metadata": {
    "tags": []
   },
   "outputs": [
    {
     "data": {
      "image/png": "[encoded data removed]",
      "text/plain": [
       "<Figure size 1400x700 with 1 Axes>"
      ]
     },
     "metadata": {},
     "output_type": "display_data"
    }
   ],
   "source": [
    "genre_counts = genre_counts.head(10)\n",
    "pmf = genre_counts /10\n",
    "\n",
    "plt.figure(figsize=(14, 7))\n",
    "pmf.plot(kind='barh')\n",
    "plt.title('PMF of Genre Combinations')\n",
    "plt.ylabel('Genre Combinations')\n",
    "plt.xlabel('Probability')\n",
    "plt.xticks(rotation=90)\n",
    "plt.show()"
   ]
  },
  {
   "cell_type": "markdown",
   "metadata": {},
   "source": [
    "A combination of **Action, Adventure and Comedy** has the highest probability of being profitable"
   ]
  },
  {
   "cell_type": "markdown",
   "metadata": {},
   "source": [
    "## Use Statistical Test To Check The Significance Of Our Cleaned Data"
   ]
  },
  {
   "cell_type": "markdown",
   "metadata": {
    "tags": []
   },
   "source": [
    "## The Three Buisness Questions\n",
    "\n",
    "Returning to the three buisness questions we needed answered i.e\n",
    "\n",
    "1. What Genres Are Most Profitable?\n",
    "2. Does Release Date Influence Opening Weekend Box Office Success?\n",
    "3. Which the directors have the highest success rate?\n",
    "\n"
   ]
  },
  {
   "cell_type": "markdown",
   "metadata": {},
   "source": [
    "### What Genres Are Most Profitable? \n",
    "\n",
    "From the visualisation below we can see combination of either action or adventure or both genres have the highest gross profit. When elements of Drama, Comedy or science fiction are added to this combination it increases the chances of making greater margins. So if there were to be three combinations our film buisness should invest in it would be:\n",
    "- **Action, Drama, Adventure**\n",
    "- **Adventure, Sci-Fi, Action**\n",
    "- **Adventure, Comedy, Action**\n",
    "\n",
    "Documentary, Biography, History and Sport are not replicable since content itself may not be copyrighted (facts and historical events are in the public domain thus are not considered original video content in this context."
   ]
  },
  {
   "cell_type": "code",
   "execution_count": 2185,
   "metadata": {
    "tags": []
   },
   "outputs": [
    {
     "data": {
      "text/html": [
       "<div>\n",
       "<style scoped>\n",
       "    .dataframe tbody tr th:only-of-type {\n",
       "        vertical-align: middle;\n",
       "    }\n",
       "\n",
       "    .dataframe tbody tr th {\n",
       "        vertical-align: top;\n",
       "    }\n",
       "\n",
       "    .dataframe thead tr th {\n",
       "        text-align: left;\n",
       "    }\n",
       "\n",
       "    .dataframe thead tr:last-of-type th {\n",
       "        text-align: right;\n",
       "    }\n",
       "</style>\n",
       "<table border=\"1\" class=\"dataframe\">\n",
       "  <thead>\n",
       "    <tr>\n",
       "      <th></th>\n",
       "      <th colspan=\"3\" halign=\"left\">gross_profit</th>\n",
       "    </tr>\n",
       "    <tr>\n",
       "      <th></th>\n",
       "      <th>count</th>\n",
       "      <th>mean</th>\n",
       "      <th>median</th>\n",
       "    </tr>\n",
       "    <tr>\n",
       "      <th>genres</th>\n",
       "      <th></th>\n",
       "      <th></th>\n",
       "      <th></th>\n",
       "    </tr>\n",
       "  </thead>\n",
       "  <tbody>\n",
       "    <tr>\n",
       "      <th>Drama</th>\n",
       "      <td>52</td>\n",
       "      <td>3.924794e+07</td>\n",
       "      <td>13125820.0</td>\n",
       "    </tr>\n",
       "    <tr>\n",
       "      <th>Adventure,Animation,Comedy</th>\n",
       "      <td>47</td>\n",
       "      <td>2.917868e+08</td>\n",
       "      <td>166562312.0</td>\n",
       "    </tr>\n",
       "    <tr>\n",
       "      <th>Action,Adventure,Sci-Fi</th>\n",
       "      <td>39</td>\n",
       "      <td>5.397891e+08</td>\n",
       "      <td>488986787.0</td>\n",
       "    </tr>\n",
       "    <tr>\n",
       "      <th>Comedy,Drama,Romance</th>\n",
       "      <td>38</td>\n",
       "      <td>3.210311e+07</td>\n",
       "      <td>6998217.5</td>\n",
       "    </tr>\n",
       "    <tr>\n",
       "      <th>Comedy,Drama</th>\n",
       "      <td>35</td>\n",
       "      <td>3.643023e+07</td>\n",
       "      <td>16773510.0</td>\n",
       "    </tr>\n",
       "    <tr>\n",
       "      <th>Drama,Romance</th>\n",
       "      <td>29</td>\n",
       "      <td>4.656964e+07</td>\n",
       "      <td>22004627.0</td>\n",
       "    </tr>\n",
       "    <tr>\n",
       "      <th>Comedy</th>\n",
       "      <td>28</td>\n",
       "      <td>5.406900e+07</td>\n",
       "      <td>28418755.5</td>\n",
       "    </tr>\n",
       "    <tr>\n",
       "      <th>Action,Comedy,Crime</th>\n",
       "      <td>24</td>\n",
       "      <td>6.995661e+07</td>\n",
       "      <td>67536796.0</td>\n",
       "    </tr>\n",
       "    <tr>\n",
       "      <th>Action,Crime,Drama</th>\n",
       "      <td>24</td>\n",
       "      <td>4.180626e+07</td>\n",
       "      <td>30454672.5</td>\n",
       "    </tr>\n",
       "    <tr>\n",
       "      <th>Action,Adventure,Fantasy</th>\n",
       "      <td>24</td>\n",
       "      <td>2.666522e+08</td>\n",
       "      <td>169373792.0</td>\n",
       "    </tr>\n",
       "    <tr>\n",
       "      <th>Comedy,Romance</th>\n",
       "      <td>23</td>\n",
       "      <td>8.105173e+07</td>\n",
       "      <td>59553797.0</td>\n",
       "    </tr>\n",
       "    <tr>\n",
       "      <th>Documentary</th>\n",
       "      <td>20</td>\n",
       "      <td>6.596635e+07</td>\n",
       "      <td>18267266.0</td>\n",
       "    </tr>\n",
       "    <tr>\n",
       "      <th>Horror,Mystery,Thriller</th>\n",
       "      <td>20</td>\n",
       "      <td>1.062433e+08</td>\n",
       "      <td>76826435.5</td>\n",
       "    </tr>\n",
       "    <tr>\n",
       "      <th>Action,Adventure,Drama</th>\n",
       "      <td>19</td>\n",
       "      <td>1.144388e+08</td>\n",
       "      <td>70497035.0</td>\n",
       "    </tr>\n",
       "    <tr>\n",
       "      <th>Drama,Thriller</th>\n",
       "      <td>18</td>\n",
       "      <td>4.887243e+07</td>\n",
       "      <td>14766234.5</td>\n",
       "    </tr>\n",
       "    <tr>\n",
       "      <th>Action,Adventure,Comedy</th>\n",
       "      <td>17</td>\n",
       "      <td>3.330677e+08</td>\n",
       "      <td>304803696.0</td>\n",
       "    </tr>\n",
       "    <tr>\n",
       "      <th>Biography,Drama,History</th>\n",
       "      <td>17</td>\n",
       "      <td>7.820956e+07</td>\n",
       "      <td>47586407.0</td>\n",
       "    </tr>\n",
       "    <tr>\n",
       "      <th>Crime,Drama,Thriller</th>\n",
       "      <td>16</td>\n",
       "      <td>1.906243e+07</td>\n",
       "      <td>25516773.0</td>\n",
       "    </tr>\n",
       "    <tr>\n",
       "      <th>Action,Crime,Thriller</th>\n",
       "      <td>16</td>\n",
       "      <td>2.076518e+08</td>\n",
       "      <td>36229119.0</td>\n",
       "    </tr>\n",
       "    <tr>\n",
       "      <th>Biography,Comedy,Drama</th>\n",
       "      <td>16</td>\n",
       "      <td>4.428798e+07</td>\n",
       "      <td>20389073.5</td>\n",
       "    </tr>\n",
       "  </tbody>\n",
       "</table>\n",
       "</div>"
      ],
      "text/plain": [
       "                           gross_profit                           \n",
       "                                  count          mean       median\n",
       "genres                                                            \n",
       "Drama                                52  3.924794e+07   13125820.0\n",
       "Adventure,Animation,Comedy           47  2.917868e+08  166562312.0\n",
       "Action,Adventure,Sci-Fi              39  5.397891e+08  488986787.0\n",
       "Comedy,Drama,Romance                 38  3.210311e+07    6998217.5\n",
       "Comedy,Drama                         35  3.643023e+07   16773510.0\n",
       "Drama,Romance                        29  4.656964e+07   22004627.0\n",
       "Comedy                               28  5.406900e+07   28418755.5\n",
       "Action,Comedy,Crime                  24  6.995661e+07   67536796.0\n",
       "Action,Crime,Drama                   24  4.180626e+07   30454672.5\n",
       "Action,Adventure,Fantasy             24  2.666522e+08  169373792.0\n",
       "Comedy,Romance                       23  8.105173e+07   59553797.0\n",
       "Documentary                          20  6.596635e+07   18267266.0\n",
       "Horror,Mystery,Thriller              20  1.062433e+08   76826435.5\n",
       "Action,Adventure,Drama               19  1.144388e+08   70497035.0\n",
       "Drama,Thriller                       18  4.887243e+07   14766234.5\n",
       "Action,Adventure,Comedy              17  3.330677e+08  304803696.0\n",
       "Biography,Drama,History              17  7.820956e+07   47586407.0\n",
       "Crime,Drama,Thriller                 16  1.906243e+07   25516773.0\n",
       "Action,Crime,Thriller                16  2.076518e+08   36229119.0\n",
       "Biography,Comedy,Drama               16  4.428798e+07   20389073.5"
      ]
     },
     "execution_count": 2185,
     "metadata": {},
     "output_type": "execute_result"
    }
   ],
   "source": [
    "profit_genres_mean = final_movie_df[['genres','gross_profit']].groupby(['genres']).agg(['count','mean', 'median'])\n",
    "profit_genres_mean.sort_values(by=('gross_profit','count'), ascending=False).head(20)"
   ]
  },
  {
   "cell_type": "code",
   "execution_count": 2186,
   "metadata": {
    "tags": []
   },
   "outputs": [
    {
     "data": {
      "image/png": "[encoded data removed]",
      "text/plain": [
       "<Figure size 1400x1000 with 1 Axes>"
      ]
     },
     "metadata": {},
     "output_type": "display_data"
    }
   ],
   "source": [
    "# Visulaise the average profit per genre combination\n",
    "genre_profit = final_movie_df.groupby('genres')['gross_profit'].mean().sort_values(ascending=False).head(20)\n",
    "plt.figure(figsize=(14, 10))\n",
    "bars = plt.barh(genre_profit.index, genre_profit.values, color='skyblue')\n",
    "plt.xlabel('Profit ($00000000)')\n",
    "plt.title('Profit by Genre')\n",
    "plt.tight_layout()\n",
    "plt.show()"
   ]
  },
  {
   "cell_type": "markdown",
   "metadata": {
    "tags": []
   },
   "source": [
    "### Does Release Date Influence Opening Weekend Box Office Success?\n",
    "Studios release movies  based on particular holidays and months in order to target the overall sentiments. This means some months have higher revenue generation than other months. The visualisation below illustrates five months that have high profits, namely:\n",
    "- **May**\n",
    "- **June**\n",
    "- **July**\n",
    "- **November**\n",
    "- **December**\n",
    "\n",
    "It would be advisable to the buisness to consider timing it's releases around these months for better returns."
   ]
  },
  {
   "cell_type": "code",
   "execution_count": 2188,
   "metadata": {
    "tags": []
   },
   "outputs": [
    {
     "data": {
      "image/png": "[encoded data removed]",
      "text/plain": [
       "<Figure size 1400x700 with 1 Axes>"
      ]
     },
     "metadata": {},
     "output_type": "display_data"
    }
   ],
   "source": [
    "average_profit_per_month = final_movie_df.groupby('release_month')['gross_profit'].mean()\n",
    "\n",
    "# Plotting the average profit per month\n",
    "plt.figure(figsize=(14, 7))\n",
    "plt.plot(average_profit_per_month.index, average_profit_per_month.values, label='Average Profit', marker='o', linestyle='-')\n",
    "plt.xlabel('Month')\n",
    "plt.ylabel('Average Profit ($)')\n",
    "plt.title('Average Monthly Profit')\n",
    "plt.legend()\n",
    "plt.grid(True)\n",
    "plt.tight_layout()\n",
    "plt.show()"
   ]
  },
  {
   "cell_type": "markdown",
   "metadata": {},
   "source": [
    "To specify the release day's of the month with most gross profit, below is an additional visualization for this variable. The most successful realease day is usually on the **3rd of the month** as shown below."
   ]
  },
  {
   "cell_type": "code",
   "execution_count": 2190,
   "metadata": {
    "tags": []
   },
   "outputs": [
    {
     "data": {
      "image/png": "[encoded data removed]",
      "text/plain": [
       "<Figure size 1400x700 with 1 Axes>"
      ]
     },
     "metadata": {},
     "output_type": "display_data"
    }
   ],
   "source": [
    "average_profit_per_date = final_movie_df.groupby('release_day')['gross_profit'].mean()\n",
    "\n",
    "# Plotting the average profit per month\n",
    "plt.figure(figsize=(14, 7))\n",
    "plt.plot(average_profit_per_date.index, average_profit_per_date.values, label='Average Profit', marker='o', linestyle='-')\n",
    "plt.xlabel('Month')\n",
    "plt.ylabel('Average Profit ($)')\n",
    "plt.title('Average Date Profit')\n",
    "plt.legend()\n",
    "plt.grid(True)\n",
    "plt.tight_layout()\n",
    "plt.show()"
   ]
  },
  {
   "cell_type": "markdown",
   "metadata": {},
   "source": [
    "### Which directors have the highest success rate?\n",
    "Based on experience and mean gross profit in the visualisation below the top five directors the new buisness stakeholders can trust with a big budget film are:\n",
    "- **Steven Spielberg**\n",
    "- **Clint Eastwood**\n",
    "- **Francis Lawrence**\n",
    "- **Jon M. Chu**\n",
    "- **Tim Story**\n",
    "\n",
    "These directors have consistent profitability in the projects they undertake despite not having the highest grossing films of all time."
   ]
  },
  {
   "cell_type": "code",
   "execution_count": 2192,
   "metadata": {
    "tags": []
   },
   "outputs": [
    {
     "data": {
      "text/html": [
       "<div>\n",
       "<style scoped>\n",
       "    .dataframe tbody tr th:only-of-type {\n",
       "        vertical-align: middle;\n",
       "    }\n",
       "\n",
       "    .dataframe tbody tr th {\n",
       "        vertical-align: top;\n",
       "    }\n",
       "\n",
       "    .dataframe thead tr th {\n",
       "        text-align: left;\n",
       "    }\n",
       "\n",
       "    .dataframe thead tr:last-of-type th {\n",
       "        text-align: right;\n",
       "    }\n",
       "</style>\n",
       "<table border=\"1\" class=\"dataframe\">\n",
       "  <thead>\n",
       "    <tr>\n",
       "      <th></th>\n",
       "      <th colspan=\"3\" halign=\"left\">gross_profit</th>\n",
       "    </tr>\n",
       "    <tr>\n",
       "      <th></th>\n",
       "      <th>count</th>\n",
       "      <th>mean</th>\n",
       "      <th>median</th>\n",
       "    </tr>\n",
       "    <tr>\n",
       "      <th>director</th>\n",
       "      <th></th>\n",
       "      <th></th>\n",
       "      <th></th>\n",
       "    </tr>\n",
       "  </thead>\n",
       "  <tbody>\n",
       "    <tr>\n",
       "      <th>Steven Spielberg</th>\n",
       "      <td>7</td>\n",
       "      <td>1.829057e+08</td>\n",
       "      <td>129748880.0</td>\n",
       "    </tr>\n",
       "    <tr>\n",
       "      <th>Clint Eastwood</th>\n",
       "      <td>6</td>\n",
       "      <td>1.379160e+08</td>\n",
       "      <td>54133150.0</td>\n",
       "    </tr>\n",
       "    <tr>\n",
       "      <th>Francis Lawrence</th>\n",
       "      <td>5</td>\n",
       "      <td>4.042383e+08</td>\n",
       "      <td>488986787.0</td>\n",
       "    </tr>\n",
       "    <tr>\n",
       "      <th>Jon M. Chu</th>\n",
       "      <td>5</td>\n",
       "      <td>1.531137e+08</td>\n",
       "      <td>208099711.0</td>\n",
       "    </tr>\n",
       "    <tr>\n",
       "      <th>Tim Story</th>\n",
       "      <td>5</td>\n",
       "      <td>7.815801e+07</td>\n",
       "      <td>84827316.0</td>\n",
       "    </tr>\n",
       "    <tr>\n",
       "      <th>Ridley Scott</th>\n",
       "      <td>5</td>\n",
       "      <td>2.281130e+08</td>\n",
       "      <td>141521247.0</td>\n",
       "    </tr>\n",
       "    <tr>\n",
       "      <th>Jaume Collet-Serra</th>\n",
       "      <td>5</td>\n",
       "      <td>7.134972e+07</td>\n",
       "      <td>61985431.0</td>\n",
       "    </tr>\n",
       "    <tr>\n",
       "      <th>Zack Snyder</th>\n",
       "      <td>5</td>\n",
       "      <td>2.941840e+08</td>\n",
       "      <td>355945209.0</td>\n",
       "    </tr>\n",
       "    <tr>\n",
       "      <th>Steven Soderbergh</th>\n",
       "      <td>5</td>\n",
       "      <td>5.649705e+07</td>\n",
       "      <td>15264271.0</td>\n",
       "    </tr>\n",
       "    <tr>\n",
       "      <th>Pierre Coffin</th>\n",
       "      <td>4</td>\n",
       "      <td>8.549363e+08</td>\n",
       "      <td>929472292.5</td>\n",
       "    </tr>\n",
       "    <tr>\n",
       "      <th>James Wan</th>\n",
       "      <td>4</td>\n",
       "      <td>6.779971e+08</td>\n",
       "      <td>642447390.5</td>\n",
       "    </tr>\n",
       "    <tr>\n",
       "      <th>Antoine Fuqua</th>\n",
       "      <td>4</td>\n",
       "      <td>1.045980e+08</td>\n",
       "      <td>108166030.0</td>\n",
       "    </tr>\n",
       "    <tr>\n",
       "      <th>Christopher Nolan</th>\n",
       "      <td>4</td>\n",
       "      <td>5.840451e+08</td>\n",
       "      <td>588452008.5</td>\n",
       "    </tr>\n",
       "    <tr>\n",
       "      <th>Robert Zemeckis</th>\n",
       "      <td>4</td>\n",
       "      <td>3.429803e+07</td>\n",
       "      <td>19879382.5</td>\n",
       "    </tr>\n",
       "    <tr>\n",
       "      <th>Joe Wright</th>\n",
       "      <td>4</td>\n",
       "      <td>4.492037e+07</td>\n",
       "      <td>28674160.5</td>\n",
       "    </tr>\n",
       "    <tr>\n",
       "      <th>Mike Mitchell</th>\n",
       "      <td>4</td>\n",
       "      <td>3.291241e+08</td>\n",
       "      <td>253050852.0</td>\n",
       "    </tr>\n",
       "    <tr>\n",
       "      <th>Bryan Singer</th>\n",
       "      <td>4</td>\n",
       "      <td>4.387683e+08</td>\n",
       "      <td>456200160.5</td>\n",
       "    </tr>\n",
       "    <tr>\n",
       "      <th>Jeff Nichols</th>\n",
       "      <td>4</td>\n",
       "      <td>3.839322e+06</td>\n",
       "      <td>2060040.0</td>\n",
       "    </tr>\n",
       "    <tr>\n",
       "      <th>Paul W.S. Anderson</th>\n",
       "      <td>4</td>\n",
       "      <td>1.791480e+08</td>\n",
       "      <td>207010909.5</td>\n",
       "    </tr>\n",
       "    <tr>\n",
       "      <th>Denis Villeneuve</th>\n",
       "      <td>4</td>\n",
       "      <td>8.807034e+07</td>\n",
       "      <td>70879855.0</td>\n",
       "    </tr>\n",
       "  </tbody>\n",
       "</table>\n",
       "</div>"
      ],
      "text/plain": [
       "                   gross_profit                           \n",
       "                          count          mean       median\n",
       "director                                                  \n",
       "Steven Spielberg              7  1.829057e+08  129748880.0\n",
       "Clint Eastwood                6  1.379160e+08   54133150.0\n",
       "Francis Lawrence              5  4.042383e+08  488986787.0\n",
       "Jon M. Chu                    5  1.531137e+08  208099711.0\n",
       "Tim Story                     5  7.815801e+07   84827316.0\n",
       "Ridley Scott                  5  2.281130e+08  141521247.0\n",
       "Jaume Collet-Serra            5  7.134972e+07   61985431.0\n",
       "Zack Snyder                   5  2.941840e+08  355945209.0\n",
       "Steven Soderbergh             5  5.649705e+07   15264271.0\n",
       "Pierre Coffin                 4  8.549363e+08  929472292.5\n",
       "James Wan                     4  6.779971e+08  642447390.5\n",
       "Antoine Fuqua                 4  1.045980e+08  108166030.0\n",
       "Christopher Nolan             4  5.840451e+08  588452008.5\n",
       "Robert Zemeckis               4  3.429803e+07   19879382.5\n",
       "Joe Wright                    4  4.492037e+07   28674160.5\n",
       "Mike Mitchell                 4  3.291241e+08  253050852.0\n",
       "Bryan Singer                  4  4.387683e+08  456200160.5\n",
       "Jeff Nichols                  4  3.839322e+06    2060040.0\n",
       "Paul W.S. Anderson            4  1.791480e+08  207010909.5\n",
       "Denis Villeneuve              4  8.807034e+07   70879855.0"
      ]
     },
     "execution_count": 2192,
     "metadata": {},
     "output_type": "execute_result"
    }
   ],
   "source": [
    "# Creates the dataset grouped by directors and displays their average gross profit for the total films they've directed\n",
    "profit_directors_mean = final_movie_df[['director','gross_profit']].groupby(['director']).agg(['count','mean', 'median'])\n",
    "profit_directors_mean.sort_values(by=('gross_profit','count'), ascending=False).head(20)"
   ]
  },
  {
   "cell_type": "code",
   "execution_count": 2193,
   "metadata": {
    "tags": []
   },
   "outputs": [
    {
     "data": {
      "text/html": [
       "<div>\n",
       "<style scoped>\n",
       "    .dataframe tbody tr th:only-of-type {\n",
       "        vertical-align: middle;\n",
       "    }\n",
       "\n",
       "    .dataframe tbody tr th {\n",
       "        vertical-align: top;\n",
       "    }\n",
       "\n",
       "    .dataframe thead tr th {\n",
       "        text-align: left;\n",
       "    }\n",
       "\n",
       "    .dataframe thead tr:last-of-type th {\n",
       "        text-align: right;\n",
       "    }\n",
       "</style>\n",
       "<table border=\"1\" class=\"dataframe\">\n",
       "  <thead>\n",
       "    <tr>\n",
       "      <th></th>\n",
       "      <th colspan=\"3\" halign=\"left\">production_budget</th>\n",
       "    </tr>\n",
       "    <tr>\n",
       "      <th></th>\n",
       "      <th>count</th>\n",
       "      <th>mean</th>\n",
       "      <th>median</th>\n",
       "    </tr>\n",
       "    <tr>\n",
       "      <th>genres</th>\n",
       "      <th></th>\n",
       "      <th></th>\n",
       "      <th></th>\n",
       "    </tr>\n",
       "  </thead>\n",
       "  <tbody>\n",
       "    <tr>\n",
       "      <th>Drama</th>\n",
       "      <td>52</td>\n",
       "      <td>1.936731e+07</td>\n",
       "      <td>12750000.0</td>\n",
       "    </tr>\n",
       "    <tr>\n",
       "      <th>Adventure,Animation,Comedy</th>\n",
       "      <td>47</td>\n",
       "      <td>9.712766e+07</td>\n",
       "      <td>80000000.0</td>\n",
       "    </tr>\n",
       "    <tr>\n",
       "      <th>Action,Adventure,Sci-Fi</th>\n",
       "      <td>39</td>\n",
       "      <td>1.673487e+08</td>\n",
       "      <td>175000000.0</td>\n",
       "    </tr>\n",
       "    <tr>\n",
       "      <th>Comedy,Drama,Romance</th>\n",
       "      <td>38</td>\n",
       "      <td>1.624474e+07</td>\n",
       "      <td>9000000.0</td>\n",
       "    </tr>\n",
       "    <tr>\n",
       "      <th>Comedy,Drama</th>\n",
       "      <td>35</td>\n",
       "      <td>1.924343e+07</td>\n",
       "      <td>17000000.0</td>\n",
       "    </tr>\n",
       "    <tr>\n",
       "      <th>Drama,Romance</th>\n",
       "      <td>29</td>\n",
       "      <td>1.836724e+07</td>\n",
       "      <td>16000000.0</td>\n",
       "    </tr>\n",
       "    <tr>\n",
       "      <th>Comedy</th>\n",
       "      <td>28</td>\n",
       "      <td>3.374643e+07</td>\n",
       "      <td>27500000.0</td>\n",
       "    </tr>\n",
       "    <tr>\n",
       "      <th>Action,Comedy,Crime</th>\n",
       "      <td>24</td>\n",
       "      <td>4.291667e+07</td>\n",
       "      <td>39000000.0</td>\n",
       "    </tr>\n",
       "    <tr>\n",
       "      <th>Action,Crime,Drama</th>\n",
       "      <td>24</td>\n",
       "      <td>2.871667e+07</td>\n",
       "      <td>30000000.0</td>\n",
       "    </tr>\n",
       "    <tr>\n",
       "      <th>Action,Adventure,Fantasy</th>\n",
       "      <td>24</td>\n",
       "      <td>1.556500e+08</td>\n",
       "      <td>150000000.0</td>\n",
       "    </tr>\n",
       "    <tr>\n",
       "      <th>Comedy,Romance</th>\n",
       "      <td>23</td>\n",
       "      <td>2.809130e+07</td>\n",
       "      <td>24000000.0</td>\n",
       "    </tr>\n",
       "    <tr>\n",
       "      <th>Documentary</th>\n",
       "      <td>20</td>\n",
       "      <td>4.040000e+07</td>\n",
       "      <td>20000000.0</td>\n",
       "    </tr>\n",
       "    <tr>\n",
       "      <th>Horror,Mystery,Thriller</th>\n",
       "      <td>20</td>\n",
       "      <td>8.005000e+06</td>\n",
       "      <td>6250000.0</td>\n",
       "    </tr>\n",
       "    <tr>\n",
       "      <th>Action,Adventure,Drama</th>\n",
       "      <td>19</td>\n",
       "      <td>9.942105e+07</td>\n",
       "      <td>110000000.0</td>\n",
       "    </tr>\n",
       "    <tr>\n",
       "      <th>Drama,Thriller</th>\n",
       "      <td>18</td>\n",
       "      <td>2.300833e+07</td>\n",
       "      <td>14500000.0</td>\n",
       "    </tr>\n",
       "    <tr>\n",
       "      <th>Action,Adventure,Comedy</th>\n",
       "      <td>17</td>\n",
       "      <td>1.027647e+08</td>\n",
       "      <td>104000000.0</td>\n",
       "    </tr>\n",
       "    <tr>\n",
       "      <th>Biography,Drama,History</th>\n",
       "      <td>17</td>\n",
       "      <td>2.505882e+07</td>\n",
       "      <td>25000000.0</td>\n",
       "    </tr>\n",
       "    <tr>\n",
       "      <th>Crime,Drama,Thriller</th>\n",
       "      <td>16</td>\n",
       "      <td>2.121875e+07</td>\n",
       "      <td>21000000.0</td>\n",
       "    </tr>\n",
       "    <tr>\n",
       "      <th>Action,Crime,Thriller</th>\n",
       "      <td>16</td>\n",
       "      <td>7.212500e+07</td>\n",
       "      <td>55000000.0</td>\n",
       "    </tr>\n",
       "    <tr>\n",
       "      <th>Biography,Comedy,Drama</th>\n",
       "      <td>16</td>\n",
       "      <td>1.925000e+07</td>\n",
       "      <td>17500000.0</td>\n",
       "    </tr>\n",
       "  </tbody>\n",
       "</table>\n",
       "</div>"
      ],
      "text/plain": [
       "                           production_budget                           \n",
       "                                       count          mean       median\n",
       "genres                                                                 \n",
       "Drama                                     52  1.936731e+07   12750000.0\n",
       "Adventure,Animation,Comedy                47  9.712766e+07   80000000.0\n",
       "Action,Adventure,Sci-Fi                   39  1.673487e+08  175000000.0\n",
       "Comedy,Drama,Romance                      38  1.624474e+07    9000000.0\n",
       "Comedy,Drama                              35  1.924343e+07   17000000.0\n",
       "Drama,Romance                             29  1.836724e+07   16000000.0\n",
       "Comedy                                    28  3.374643e+07   27500000.0\n",
       "Action,Comedy,Crime                       24  4.291667e+07   39000000.0\n",
       "Action,Crime,Drama                        24  2.871667e+07   30000000.0\n",
       "Action,Adventure,Fantasy                  24  1.556500e+08  150000000.0\n",
       "Comedy,Romance                            23  2.809130e+07   24000000.0\n",
       "Documentary                               20  4.040000e+07   20000000.0\n",
       "Horror,Mystery,Thriller                   20  8.005000e+06    6250000.0\n",
       "Action,Adventure,Drama                    19  9.942105e+07  110000000.0\n",
       "Drama,Thriller                            18  2.300833e+07   14500000.0\n",
       "Action,Adventure,Comedy                   17  1.027647e+08  104000000.0\n",
       "Biography,Drama,History                   17  2.505882e+07   25000000.0\n",
       "Crime,Drama,Thriller                      16  2.121875e+07   21000000.0\n",
       "Action,Crime,Thriller                     16  7.212500e+07   55000000.0\n",
       "Biography,Comedy,Drama                    16  1.925000e+07   17500000.0"
      ]
     },
     "execution_count": 2193,
     "metadata": {},
     "output_type": "execute_result"
    }
   ],
   "source": [
    "# Creates the dataset grouped by genres and displays their average production budget for the total films they've produced\n",
    "profit_genres_mean = final_movie_df[['genres', 'production_budget']].groupby(['genres']).agg(['count', 'mean', 'median'])\n",
    "profit_genres_mean.sort_values(by=('production_budget', 'count'), ascending=False).head(20)\n"
   ]
  },
  {
   "cell_type": "code",
   "execution_count": 2194,
   "metadata": {
    "tags": []
   },
   "outputs": [
    {
     "data": {
      "image/png": "[encoded data removed]",
      "text/plain": [
       "<Figure size 1000x600 with 1 Axes>"
      ]
     },
     "metadata": {},
     "output_type": "display_data"
    }
   ],
   "source": [
    "# Scatter plot with a regression line to visualise the effect size on thr gross profit\n",
    "plt.figure(figsize=(10, 6))\n",
    "sns.regplot(x='production_budget', y='gross_profit', data=final_movie_df, scatter_kws={'s':10}, line_kws={\"color\":\"red\"})\n",
    "plt.title('Production Budget vs. Gross Profit')\n",
    "plt.xlabel('Production Budget')\n",
    "plt.ylabel('Gross Profit')\n",
    "plt.grid(True)\n",
    "plt.show()"
   ]
  },
  {
   "cell_type": "code",
   "execution_count": 2195,
   "metadata": {
    "tags": []
   },
   "outputs": [
    {
     "data": {
      "text/html": [
       "<div>\n",
       "<style scoped>\n",
       "    .dataframe tbody tr th:only-of-type {\n",
       "        vertical-align: middle;\n",
       "    }\n",
       "\n",
       "    .dataframe tbody tr th {\n",
       "        vertical-align: top;\n",
       "    }\n",
       "\n",
       "    .dataframe thead tr th {\n",
       "        text-align: left;\n",
       "    }\n",
       "\n",
       "    .dataframe thead tr:last-of-type th {\n",
       "        text-align: right;\n",
       "    }\n",
       "</style>\n",
       "<table border=\"1\" class=\"dataframe\">\n",
       "  <thead>\n",
       "    <tr>\n",
       "      <th></th>\n",
       "      <th colspan=\"3\" halign=\"left\">gross_profit</th>\n",
       "    </tr>\n",
       "    <tr>\n",
       "      <th></th>\n",
       "      <th>count</th>\n",
       "      <th>mean</th>\n",
       "      <th>median</th>\n",
       "    </tr>\n",
       "    <tr>\n",
       "      <th>averagerating</th>\n",
       "      <th></th>\n",
       "      <th></th>\n",
       "      <th></th>\n",
       "    </tr>\n",
       "  </thead>\n",
       "  <tbody>\n",
       "    <tr>\n",
       "      <th>6.3</th>\n",
       "      <td>56</td>\n",
       "      <td>1.028522e+08</td>\n",
       "      <td>45055701.5</td>\n",
       "    </tr>\n",
       "    <tr>\n",
       "      <th>6.6</th>\n",
       "      <td>54</td>\n",
       "      <td>1.291332e+08</td>\n",
       "      <td>34500439.5</td>\n",
       "    </tr>\n",
       "    <tr>\n",
       "      <th>6.8</th>\n",
       "      <td>51</td>\n",
       "      <td>7.142417e+07</td>\n",
       "      <td>27000339.0</td>\n",
       "    </tr>\n",
       "    <tr>\n",
       "      <th>6.2</th>\n",
       "      <td>50</td>\n",
       "      <td>1.125849e+08</td>\n",
       "      <td>44618823.5</td>\n",
       "    </tr>\n",
       "    <tr>\n",
       "      <th>7.0</th>\n",
       "      <td>48</td>\n",
       "      <td>1.469819e+08</td>\n",
       "      <td>33525986.0</td>\n",
       "    </tr>\n",
       "    <tr>\n",
       "      <th>6.5</th>\n",
       "      <td>48</td>\n",
       "      <td>1.033555e+08</td>\n",
       "      <td>46096244.5</td>\n",
       "    </tr>\n",
       "    <tr>\n",
       "      <th>6.4</th>\n",
       "      <td>46</td>\n",
       "      <td>5.900833e+07</td>\n",
       "      <td>21366985.0</td>\n",
       "    </tr>\n",
       "    <tr>\n",
       "      <th>7.2</th>\n",
       "      <td>44</td>\n",
       "      <td>1.332261e+08</td>\n",
       "      <td>22954369.0</td>\n",
       "    </tr>\n",
       "    <tr>\n",
       "      <th>6.7</th>\n",
       "      <td>42</td>\n",
       "      <td>9.288485e+07</td>\n",
       "      <td>40210703.0</td>\n",
       "    </tr>\n",
       "    <tr>\n",
       "      <th>7.3</th>\n",
       "      <td>38</td>\n",
       "      <td>1.508347e+08</td>\n",
       "      <td>36924341.5</td>\n",
       "    </tr>\n",
       "    <tr>\n",
       "      <th>7.1</th>\n",
       "      <td>38</td>\n",
       "      <td>1.159145e+08</td>\n",
       "      <td>40695658.0</td>\n",
       "    </tr>\n",
       "    <tr>\n",
       "      <th>5.7</th>\n",
       "      <td>35</td>\n",
       "      <td>8.260822e+07</td>\n",
       "      <td>31158601.0</td>\n",
       "    </tr>\n",
       "    <tr>\n",
       "      <th>6.9</th>\n",
       "      <td>35</td>\n",
       "      <td>9.027258e+07</td>\n",
       "      <td>18073377.0</td>\n",
       "    </tr>\n",
       "    <tr>\n",
       "      <th>5.8</th>\n",
       "      <td>31</td>\n",
       "      <td>5.252623e+07</td>\n",
       "      <td>13374700.0</td>\n",
       "    </tr>\n",
       "    <tr>\n",
       "      <th>6.1</th>\n",
       "      <td>31</td>\n",
       "      <td>4.864317e+07</td>\n",
       "      <td>14811293.0</td>\n",
       "    </tr>\n",
       "    <tr>\n",
       "      <th>5.9</th>\n",
       "      <td>30</td>\n",
       "      <td>3.850675e+07</td>\n",
       "      <td>21828452.5</td>\n",
       "    </tr>\n",
       "    <tr>\n",
       "      <th>6.0</th>\n",
       "      <td>29</td>\n",
       "      <td>1.101556e+08</td>\n",
       "      <td>72678948.0</td>\n",
       "    </tr>\n",
       "    <tr>\n",
       "      <th>7.4</th>\n",
       "      <td>28</td>\n",
       "      <td>1.413950e+08</td>\n",
       "      <td>25366817.0</td>\n",
       "    </tr>\n",
       "    <tr>\n",
       "      <th>7.6</th>\n",
       "      <td>26</td>\n",
       "      <td>1.294557e+08</td>\n",
       "      <td>65415984.5</td>\n",
       "    </tr>\n",
       "    <tr>\n",
       "      <th>7.5</th>\n",
       "      <td>24</td>\n",
       "      <td>2.044020e+08</td>\n",
       "      <td>78989930.0</td>\n",
       "    </tr>\n",
       "  </tbody>\n",
       "</table>\n",
       "</div>"
      ],
      "text/plain": [
       "              gross_profit                          \n",
       "                     count          mean      median\n",
       "averagerating                                       \n",
       "6.3                     56  1.028522e+08  45055701.5\n",
       "6.6                     54  1.291332e+08  34500439.5\n",
       "6.8                     51  7.142417e+07  27000339.0\n",
       "6.2                     50  1.125849e+08  44618823.5\n",
       "7.0                     48  1.469819e+08  33525986.0\n",
       "6.5                     48  1.033555e+08  46096244.5\n",
       "6.4                     46  5.900833e+07  21366985.0\n",
       "7.2                     44  1.332261e+08  22954369.0\n",
       "6.7                     42  9.288485e+07  40210703.0\n",
       "7.3                     38  1.508347e+08  36924341.5\n",
       "7.1                     38  1.159145e+08  40695658.0\n",
       "5.7                     35  8.260822e+07  31158601.0\n",
       "6.9                     35  9.027258e+07  18073377.0\n",
       "5.8                     31  5.252623e+07  13374700.0\n",
       "6.1                     31  4.864317e+07  14811293.0\n",
       "5.9                     30  3.850675e+07  21828452.5\n",
       "6.0                     29  1.101556e+08  72678948.0\n",
       "7.4                     28  1.413950e+08  25366817.0\n",
       "7.6                     26  1.294557e+08  65415984.5\n",
       "7.5                     24  2.044020e+08  78989930.0"
      ]
     },
     "execution_count": 2195,
     "metadata": {},
     "output_type": "execute_result"
    }
   ],
   "source": [
    "# Creates the dataset grouped by average rating and displays their average gross profit for the total films they've ranked\n",
    "profit_genres_mean = final_movie_df[['averagerating','gross_profit']].groupby(['averagerating']).agg(['count','mean', 'median'])\n",
    "profit_genres_mean.sort_values(by=('gross_profit','count'), ascending=False).head(20)"
   ]
  },
  {
   "cell_type": "markdown",
   "metadata": {},
   "source": [
    "## Hypothesis Testing\n",
    "Before we determine whether to reject or accept the Null Hypothesis\n",
    "The steps we'll be taking are as follows:\n",
    "1. Check if the final_data_df (sample) represents our population_data (**movie_data**). We are using the numbers data since it contains the merged value of both the box and numbers data as well as the largest column of our dependant variable **profit**\n",
    "2. Normalise our data if askew using IQR\n",
    "3. Perfom tests based on the results of the above steps"
   ]
  },
  {
   "cell_type": "markdown",
   "metadata": {
    "tags": []
   },
   "source": [
    "### Check if the Distribution of our data represents the movie_data\n",
    "Kolmogorov-Smirnov test to check if the datasets follow the same distribution.\n",
    "The large p value of 0.999 suggests that the final_movie_df represents the movie_data and they have the same distributions"
   ]
  },
  {
   "cell_type": "code",
   "execution_count": 2198,
   "metadata": {
    "tags": []
   },
   "outputs": [
    {
     "name": "stdout",
     "output_type": "stream",
     "text": [
      "K-S Statistic: 0.015149333321333266, P-Value: 0.9990727811060789\n"
     ]
    }
   ],
   "source": [
    "# Use the Kolmogorov-Smirnov Test to check if final_movie_df corresponds with the_numbers_df\n",
    "\n",
    "from scipy.stats import ks_2samp # import the stats module for K-S test\n",
    "\n",
    "statistic, p_value = ks_2samp(movie_data['profit'], final_movie_df['gross_profit'])\n",
    "print(f\"K-S Statistic: {statistic}, P-Value: {p_value}\")\n"
   ]
  },
  {
   "cell_type": "markdown",
   "metadata": {},
   "source": [
    "### Perform a IQR to reduce Outliers"
   ]
  },
  {
   "cell_type": "code",
   "execution_count": 2200,
   "metadata": {
    "tags": []
   },
   "outputs": [],
   "source": [
    "Q1 = final_movie_df['gross_profit'].quantile(0.25)\n",
    "Q3 = final_movie_df['gross_profit'].quantile(0.75)\n",
    "IQR = Q3 - Q1\n",
    "unskewd_df = final_movie_df[(final_movie_df['gross_profit'] >= (Q1 - 1.5 * IQR)) & (final_movie_df['gross_profit'] <= (Q3 + 1.5 * IQR))]\n"
   ]
  },
  {
   "cell_type": "code",
   "execution_count": 2201,
   "metadata": {
    "tags": []
   },
   "outputs": [
    {
     "name": "stderr",
     "output_type": "stream",
     "text": [
      "C:\\Users\\ADMIN\\anaconda3\\Lib\\site-packages\\seaborn\\_oldcore.py:1119: FutureWarning: use_inf_as_na option is deprecated and will be removed in a future version. Convert inf values to NaN before operating instead.\n",
      "  with pd.option_context('mode.use_inf_as_na', True):\n"
     ]
    },
    {
     "data": {
      "text/plain": [
       "Text(0.5, 1.0, 'Histogram of Gross Profit')"
      ]
     },
     "execution_count": 2201,
     "metadata": {},
     "output_type": "execute_result"
    },
    {
     "data": {
      "image/png": "[encoded data removed]",
      "text/plain": [
       "<Figure size 1400x700 with 1 Axes>"
      ]
     },
     "metadata": {},
     "output_type": "display_data"
    }
   ],
   "source": [
    "# Check if the data is normalized with a Histogram\n",
    "plt.figure(figsize=(14, 7))\n",
    "plt.subplot(1, 3, 1)\n",
    "sns.histplot(unskewd_df['gross_profit'], bins=30, kde=False)\n",
    "plt.title('Histogram of Gross Profit')"
   ]
  },
  {
   "cell_type": "markdown",
   "metadata": {},
   "source": [
    "The data is somewhat normalised but not enough to do any normal ttests. Due to this well be using the following tests on our Hypotheses;\n",
    "1. Spearman's Rank Correlation\n",
    "2. Kruskal-Wallis H test"
   ]
  },
  {
   "cell_type": "markdown",
   "metadata": {},
   "source": [
    "### Does the combination of genres affect the profitability of the film?\n",
    "\n",
    "We'll us the Kruskal-Wallis H test for the following reasons;-\n",
    "1. Its a non-parametric test that compares the medians of three or more independent groups\n",
    "3. Its suitable for this analysis because profitability data may not be normally distributed, and genre combinations form distinct groups"
   ]
  },
  {
   "cell_type": "code",
   "execution_count": 2204,
   "metadata": {
    "tags": []
   },
   "outputs": [
    {
     "name": "stdout",
     "output_type": "stream",
     "text": [
      "Kruskal-Wallis H Test Statistic: 335.43653114340486, P-Value: 2.232885895020977e-21\n"
     ]
    }
   ],
   "source": [
    "from scipy.stats import kruskal\n",
    "\n",
    "# Group the data by genre combination and collect gross profits\n",
    "grouped = final_movie_df.groupby('genres')['gross_profit'].apply(list)\n",
    "\n",
    "# Prepare data for Kruskal-Wallis test & Remove groups with only one sample\n",
    "data = [profits for profits in grouped if len(profits) > 1]  \n",
    "# Apply the Kruskal-Wallis H test\n",
    "statistic, p_value = kruskal(*data)\n",
    "# print results\n",
    "print(f\"Kruskal-Wallis H Test Statistic: {statistic}, P-Value: {p_value}\")"
   ]
  },
  {
   "cell_type": "markdown",
   "metadata": {},
   "source": [
    "The extremely low p-value (much less than 0.05) indicates that we reject the null hypothesis, which posits that the median gross profits are the same across all genre combinations. This result suggests that there are significant differences in gross profit among the different genre combinations in the dataset. In other words, the **genre combination of a film appears to have a substantial impact on its profitability.**"
   ]
  },
  {
   "cell_type": "markdown",
   "metadata": {},
   "source": [
    "### Does Release Date Influence Opening Weekend Box Office Success?\n",
    "We saw earlier in our analysis that certain months and dates record the highest profitability for film relesed in those times. We test to see of this observation is significant to our study or not."
   ]
  },
  {
   "cell_type": "code",
   "execution_count": 2207,
   "metadata": {
    "tags": []
   },
   "outputs": [
    {
     "name": "stdout",
     "output_type": "stream",
     "text": [
      "Spearman's Rank Correlation: -0.024555484252722592, p-value: 0.42079684871391854\n",
      "Spearman's Rank Correlation: -0.02247798273751666, p-value: 0.46117606030271985\n"
     ]
    }
   ],
   "source": [
    "from scipy.stats import spearmanr\n",
    "\n",
    "spearman_corr, p_value = spearmanr(final_movie_df['release_month'], final_movie_df['gross_profit'])\n",
    "print(f\"Spearman's Rank Correlation: {spearman_corr}, p-value: {p_value}\")\n",
    "spearman_corr, p_value = spearmanr(final_movie_df['release_day'], final_movie_df['gross_profit'])\n",
    "print(f\"Spearman's Rank Correlation: {spearman_corr}, p-value: {p_value}\")"
   ]
  },
  {
   "cell_type": "markdown",
   "metadata": {},
   "source": [
    "The correlation coefficients are close to 0, indicating a very weak or negligible correlation between the variables in both cases.\n",
    "The high p-value indicates that we fail to reject the null hypothesis, which in this context means there is no statistically significant correlation between the release month or release day and the gross profit.\n",
    "\n",
    "The analysis suggests that **there is no significant relationship between the release month or release day and the profitability of the films in your dataset**. The very weak correlation and high p-values imply that other factors are likely more influential in determining a film's gross profit."
   ]
  },
  {
   "cell_type": "markdown",
   "metadata": {},
   "source": [
    "### Does the number of films done by a director affect the profitability of the film?\n",
    "We would like to test to see if the more films a director does accounts for the more profitable they are."
   ]
  },
  {
   "cell_type": "code",
   "execution_count": 2210,
   "metadata": {
    "tags": []
   },
   "outputs": [
    {
     "name": "stdout",
     "output_type": "stream",
     "text": [
      "Spearman's correlation: 0.30665503901567387, P-value: 6.957852339217805e-25\n"
     ]
    }
   ],
   "source": [
    "director_counts = final_movie_df['director'].value_counts().to_dict()\n",
    "\n",
    "# Map the number of films directed to each movie\n",
    "final_movie_df['num_films_directed'] = final_movie_df['director'].map(director_counts)\n",
    "\n",
    "# Calculate the Spearman's rank correlation\n",
    "correlation, p_value = spearmanr(final_movie_df['num_films_directed'], final_movie_df['gross_profit'])\n",
    "\n",
    "print(f\"Spearman's correlation: {correlation}, P-value: {p_value}\")"
   ]
  },
  {
   "cell_type": "markdown",
   "metadata": {},
   "source": [
    "The positive correlation coefficient of 0.31 indicates a moderate positive relationship between the number of films directed by a director and the gross profit. The very low p-value (much less than 0.05) suggests that this correlation is statistically significant. This means that, generally, **directors who have directed more films tend to be associated with higher gross profits**, indicating that experience in directing may contribute to a film's profitability."
   ]
  },
  {
   "cell_type": "markdown",
   "metadata": {},
   "source": [
    "### Does Production Budget affect a films Profitability?"
   ]
  },
  {
   "cell_type": "code",
   "execution_count": 2213,
   "metadata": {
    "tags": []
   },
   "outputs": [
    {
     "name": "stdout",
     "output_type": "stream",
     "text": [
      "Spearman's Rank Correlation: 0.5156891948642754, p-value: 3.1976725391633338e-74\n"
     ]
    }
   ],
   "source": [
    "spearman_corr, p_value = spearmanr(final_movie_df['production_budget'], final_movie_df['gross_profit'])\n",
    "print(f\"Spearman's Rank Correlation: {spearman_corr}, p-value: {p_value}\")"
   ]
  },
  {
   "cell_type": "markdown",
   "metadata": {},
   "source": [
    "The positive correlation coefficient of 0.52 indicates a strong positive relationship between the production budget and the gross profit of films. The very low p-value (much less than 0.05) suggests that this correlation is statistically significant. This implies that **films with higher production budgets tend to generate higher gross profits**. However, while the correlation is strong, it doesn't necessarily imply causation, as other factors could also contribute to profitability."
   ]
  },
  {
   "cell_type": "markdown",
   "metadata": {},
   "source": [
    "### Does average rating affect how profitable a film will be?"
   ]
  },
  {
   "cell_type": "code",
   "execution_count": 2216,
   "metadata": {
    "tags": []
   },
   "outputs": [
    {
     "name": "stdout",
     "output_type": "stream",
     "text": [
      "Spearman's Rank Correlation: 0.1935309293162752, p-value: 1.508604191366108e-10\n"
     ]
    }
   ],
   "source": [
    "spearman_corr, p_value = spearmanr(final_movie_df['averagerating'], final_movie_df['gross_profit'])\n",
    "print(f\"Spearman's Rank Correlation: {spearman_corr}, p-value: {p_value}\")"
   ]
  },
  {
   "cell_type": "markdown",
   "metadata": {},
   "source": [
    "The correlation coefficient indicates the strength and direction of the relationship between average rating and gross profit. A positive coefficient **suggests that higher average ratings are associated with higher gross profits**, while a negative coefficient indicates an inverse relationship."
   ]
  },
  {
   "cell_type": "markdown",
   "metadata": {},
   "source": [
    "# Conclusion"
   ]
  },
  {
   "cell_type": "markdown",
   "metadata": {
    "tags": []
   },
   "source": [
    "From this dataset and Hypothesis tests we can suggest the studio create films which have the following characteristics.\n",
    "1. Be an Action Adventure combination with an additional theme of Drama, Comedy SciFi and Sport genres.\n",
    "2. Hire experienced directors with more than 1 film in thier professional background preferably Steven Speilberg.\n",
    "3. Use thier part of thier production budget to influence the rating of the film before release to get a rating of 7.5 and above.\n",
    "\n",
    "I believe these recommendations will be the best first step in creating a successful film buisness based on the data provided."
   ]
  },
  {
   "cell_type": "markdown",
   "metadata": {},
   "source": [
    "# Linear Regression Model"
   ]
  },
  {
   "cell_type": "markdown",
   "metadata": {},
   "source": [
    "The model will predict the gross_profit using various predictors such as production_budget, average_rating, and others. \n",
    "This example will use the sklearn library for simplicity."
   ]
  },
  {
   "cell_type": "code",
   "execution_count": 2225,
   "metadata": {
    "tags": []
   },
   "outputs": [
    {
     "name": "stdout",
     "output_type": "stream",
     "text": [
      "                            OLS Regression Results                            \n",
      "==============================================================================\n",
      "Dep. Variable:           gross_profit   R-squared:                       0.595\n",
      "Model:                            OLS   Adj. R-squared:                  0.502\n",
      "Method:                 Least Squares   F-statistic:                     6.395\n",
      "Date:                Sun, 28 Jul 2024   Prob (F-statistic):           2.20e-84\n",
      "Time:                        16:24:44   Log-Likelihood:                -21639.\n",
      "No. Observations:                1077   AIC:                         4.368e+04\n",
      "Df Residuals:                     875   BIC:                         4.469e+04\n",
      "Df Model:                         201                                         \n",
      "Covariance Type:            nonrobust                                         \n",
      "==============================================================================\n",
      "                 coef    std err          t      P>|t|      [0.025      0.975]\n",
      "------------------------------------------------------------------------------\n",
      "const       1.109e+08   4.35e+06     25.470      0.000    1.02e+08    1.19e+08\n",
      "x1          1.116e+08   7.09e+06     15.735      0.000    9.77e+07    1.26e+08\n",
      "x2           3.78e+07   5.54e+06      6.828      0.000    2.69e+07    4.87e+07\n",
      "x3         -7.942e+05    4.7e+06     -0.169      0.866      -1e+07    8.43e+06\n",
      "x4          1.705e+06   7.85e+06      0.217      0.828   -1.37e+07    1.71e+07\n",
      "x5          -7.99e+06   4.71e+06     -1.697      0.090   -1.72e+07    1.25e+06\n",
      "x6          1.026e+07   8.53e+06      1.202      0.230   -6.49e+06     2.7e+07\n",
      "x7         -3.497e+06   6.63e+06     -0.527      0.598   -1.65e+07    9.52e+06\n",
      "x8         -1.421e+07   8.86e+06     -1.604      0.109   -3.16e+07    3.18e+06\n",
      "x9         -7.047e+06   5.93e+06     -1.188      0.235   -1.87e+07    4.59e+06\n",
      "x10         -1.05e+07   9.85e+06     -1.066      0.287   -2.98e+07    8.83e+06\n",
      "x11         3.519e+05   5.04e+06      0.070      0.944   -9.54e+06    1.02e+07\n",
      "x12        -7.242e+05   4.71e+06     -0.154      0.878   -9.96e+06    8.51e+06\n",
      "x13         2.927e+07   1.21e+07      2.421      0.016    5.54e+06     5.3e+07\n",
      "x14        -2.569e+06   6.94e+06     -0.370      0.711   -1.62e+07     1.1e+07\n",
      "x15        -1.397e+07   5.05e+06     -2.765      0.006   -2.39e+07   -4.05e+06\n",
      "x16         1.918e+06   5.02e+06      0.382      0.703   -7.94e+06    1.18e+07\n",
      "x17        -2.411e+06   4.71e+06     -0.512      0.609   -1.17e+07    6.83e+06\n",
      "x18        -4.151e+06   4.71e+06     -0.882      0.378   -1.34e+07    5.08e+06\n",
      "x19         4.793e+05   5.34e+06      0.090      0.929      -1e+07     1.1e+07\n",
      "x20        -5.636e+05   5.61e+06     -0.100      0.920   -1.16e+07    1.04e+07\n",
      "x21        -5.648e+06   9.64e+06     -0.586      0.558   -2.46e+07    1.33e+07\n",
      "x22        -4.076e+05   4.72e+06     -0.086      0.931   -9.68e+06    8.86e+06\n",
      "x23        -2.866e+06   5.02e+06     -0.571      0.568   -1.27e+07    6.99e+06\n",
      "x24        -4.026e+06   5.62e+06     -0.717      0.474    -1.5e+07    6.99e+06\n",
      "x25        -2.074e+06    4.7e+06     -0.441      0.659   -1.13e+07    7.15e+06\n",
      "x26        -3.983e+06   5.34e+06     -0.746      0.456   -1.45e+07    6.49e+06\n",
      "x27        -2.657e+06    4.7e+06     -0.565      0.572   -1.19e+07    6.57e+06\n",
      "x28        -3.766e+06   5.02e+06     -0.750      0.454   -1.36e+07    6.09e+06\n",
      "x29        -8.734e+06   9.68e+06     -0.903      0.367   -2.77e+07    1.03e+07\n",
      "x30        -4.438e+06   5.02e+06     -0.884      0.377   -1.43e+07    5.42e+06\n",
      "x31        -5.439e+06   5.33e+06     -1.020      0.308   -1.59e+07    5.02e+06\n",
      "x32         2.701e+06   8.31e+06      0.325      0.745   -1.36e+07     1.9e+07\n",
      "x33        -3.802e+06   5.36e+06     -0.709      0.479   -1.43e+07    6.72e+06\n",
      "x34         -1.86e+06   5.03e+06     -0.370      0.712   -1.17e+07    8.01e+06\n",
      "x35        -2.655e+06   5.33e+06     -0.498      0.618   -1.31e+07     7.8e+06\n",
      "x36        -5.707e+06   5.35e+06     -1.067      0.286   -1.62e+07    4.79e+06\n",
      "x37        -7.219e+06   5.03e+06     -1.434      0.152   -1.71e+07    2.66e+06\n",
      "x38         -1.89e+06   5.32e+06     -0.355      0.723   -1.23e+07    8.56e+06\n",
      "x39        -4.437e+06    5.9e+06     -0.752      0.452    -1.6e+07    7.15e+06\n",
      "x40         8.121e+06    4.7e+06      1.727      0.084   -1.11e+06    1.73e+07\n",
      "x41        -1.124e+07   7.31e+06     -1.537      0.125   -2.56e+07    3.11e+06\n",
      "x42        -1.239e+06    4.7e+06     -0.264      0.792   -1.05e+07    7.99e+06\n",
      "x43        -2.653e+06    4.7e+06     -0.564      0.573   -1.19e+07    6.57e+06\n",
      "x44        -6.176e+06   4.71e+06     -1.312      0.190   -1.54e+07    3.06e+06\n",
      "x45        -5.333e+06   5.33e+06     -1.001      0.317   -1.58e+07    5.12e+06\n",
      "x46        -1.744e+06   5.02e+06     -0.347      0.729   -1.16e+07    8.12e+06\n",
      "x47        -4.512e+06    4.7e+06     -0.960      0.337   -1.37e+07    4.72e+06\n",
      "x48        -1.081e+06    4.7e+06     -0.230      0.818   -1.03e+07    8.14e+06\n",
      "x49          4.91e+06   6.39e+06      0.769      0.442   -7.63e+06    1.74e+07\n",
      "x50         -1.37e+06    4.7e+06     -0.291      0.771   -1.06e+07    7.86e+06\n",
      "x51         5.982e+06   4.71e+06      1.271      0.204   -3.25e+06    1.52e+07\n",
      "x52        -3.605e+06    5.9e+06     -0.611      0.541   -1.52e+07    7.97e+06\n",
      "x53        -7.662e+06   4.74e+06     -1.617      0.106    -1.7e+07    1.64e+06\n",
      "x54         8.603e+05   5.61e+06      0.153      0.878   -1.01e+07    1.19e+07\n",
      "x55        -5.853e+06   4.73e+06     -1.238      0.216   -1.51e+07    3.42e+06\n",
      "x56         1.273e+06   7.72e+06      0.165      0.869   -1.39e+07    1.64e+07\n",
      "x57        -5.031e+06   4.75e+06     -1.060      0.289   -1.43e+07    4.28e+06\n",
      "x58         1.415e+07   1.27e+07      1.110      0.267   -1.09e+07    3.92e+07\n",
      "x59        -9.105e+06   5.33e+06     -1.707      0.088   -1.96e+07    1.36e+06\n",
      "x60        -5.611e+05    4.7e+06     -0.119      0.905   -9.79e+06    8.67e+06\n",
      "x61         -5.15e+06   5.64e+06     -0.913      0.361   -1.62e+07    5.92e+06\n",
      "x62        -5.239e+05   6.14e+06     -0.085      0.932   -1.26e+07    1.15e+07\n",
      "x63        -3.715e+06   5.63e+06     -0.660      0.509   -1.48e+07    7.33e+06\n",
      "x64        -6.756e+06   6.43e+06     -1.051      0.294   -1.94e+07    5.87e+06\n",
      "x65        -6.056e+06   6.87e+06     -0.882      0.378   -1.95e+07    7.42e+06\n",
      "x66        -4.481e+06   5.02e+06     -0.892      0.372   -1.43e+07    5.38e+06\n",
      "x67         1.665e+05    4.7e+06      0.035      0.972   -9.06e+06    9.39e+06\n",
      "x68        -1.921e+06    4.7e+06     -0.409      0.683   -1.11e+07    7.31e+06\n",
      "x69        -1.297e+06    4.7e+06     -0.276      0.783   -1.05e+07    7.93e+06\n",
      "x70        -2.898e+06   4.71e+06     -0.615      0.539   -1.21e+07    6.35e+06\n",
      "x71        -2.661e+06   4.71e+06     -0.565      0.572   -1.19e+07    6.59e+06\n",
      "x72         1.204e+06   4.71e+06      0.256      0.798   -8.03e+06    1.04e+07\n",
      "x73         1.078e+07   5.63e+06      1.916      0.056   -2.65e+05    2.18e+07\n",
      "x74        -2.868e+06   4.72e+06     -0.607      0.544   -1.21e+07     6.4e+06\n",
      "x75        -3.757e+06   5.03e+06     -0.746      0.456   -1.36e+07    6.12e+06\n",
      "x76         6.325e+06   5.08e+06      1.245      0.213   -3.65e+06    1.63e+07\n",
      "x77         2.432e+07   4.72e+06      5.155      0.000    1.51e+07    3.36e+07\n",
      "x78        -1.375e+06   5.03e+06     -0.273      0.785   -1.12e+07    8.49e+06\n",
      "x79         2.038e+06   4.71e+06      0.432      0.666   -7.21e+06    1.13e+07\n",
      "x80         -7.97e+06    6.5e+06     -1.226      0.220   -2.07e+07    4.79e+06\n",
      "x81        -2.801e+05    4.7e+06     -0.060      0.953   -9.51e+06    8.95e+06\n",
      "x82        -2.771e+06   5.47e+06     -0.506      0.613   -1.35e+07    7.97e+06\n",
      "x83        -8.448e+05   4.71e+06     -0.179      0.858   -1.01e+07    8.41e+06\n",
      "x84          -4.8e+06   4.71e+06     -1.019      0.308    -1.4e+07    4.44e+06\n",
      "x85        -2.678e+06   4.71e+06     -0.568      0.570   -1.19e+07    6.57e+06\n",
      "x86         1.029e+07   5.91e+06      1.741      0.082   -1.31e+06    2.19e+07\n",
      "x87        -4.841e+06   4.71e+06     -1.027      0.305   -1.41e+07    4.41e+06\n",
      "x88         1.829e+05    4.7e+06      0.039      0.969   -9.05e+06    9.41e+06\n",
      "x89        -3.608e+06   5.34e+06     -0.675      0.500   -1.41e+07    6.88e+06\n",
      "x90        -7.228e+06   8.37e+06     -0.864      0.388   -2.37e+07     9.2e+06\n",
      "x91        -5.634e+06   6.89e+06     -0.818      0.414   -1.92e+07    7.89e+06\n",
      "x92         7.806e+06   4.73e+06      1.649      0.099   -1.48e+06    1.71e+07\n",
      "x93        -4.639e+06   7.76e+06     -0.598      0.550   -1.99e+07    1.06e+07\n",
      "x94        -5.148e+06   5.63e+06     -0.914      0.361   -1.62e+07    5.91e+06\n",
      "x95         1.112e+06    4.7e+06      0.236      0.813   -8.12e+06    1.03e+07\n",
      "x96        -4.843e+06   8.55e+06     -0.566      0.571   -2.16e+07    1.19e+07\n",
      "x97         6.076e+06   5.62e+06      1.080      0.280   -4.96e+06    1.71e+07\n",
      "x98         1.692e+06   4.71e+06      0.359      0.720   -7.56e+06    1.09e+07\n",
      "x99        -4.612e+06   6.18e+06     -0.746      0.456   -1.67e+07    7.53e+06\n",
      "x100       -7.471e+06   6.69e+06     -1.117      0.264   -2.06e+07    5.65e+06\n",
      "x101       -4.509e+06   6.17e+06     -0.731      0.465   -1.66e+07     7.6e+06\n",
      "x102       -3.526e+06    4.7e+06     -0.750      0.453   -1.27e+07     5.7e+06\n",
      "x103       -3.175e+06   1.02e+07     -0.310      0.756   -2.33e+07    1.69e+07\n",
      "x104        3.239e+04    5.9e+06      0.005      0.996   -1.15e+07    1.16e+07\n",
      "x105       -5.763e+06   6.89e+06     -0.836      0.403   -1.93e+07    7.77e+06\n",
      "x106       -3.331e+05   5.02e+06     -0.066      0.947   -1.02e+07    9.53e+06\n",
      "x107       -1.485e+06   5.03e+06     -0.295      0.768   -1.14e+07    8.38e+06\n",
      "x108       -7.889e+05   4.71e+06     -0.168      0.867      -1e+07    8.45e+06\n",
      "x109       -7.662e+06   1.13e+07     -0.680      0.496   -2.98e+07    1.44e+07\n",
      "x110        -3.12e+06   5.62e+06     -0.555      0.579   -1.41e+07    7.91e+06\n",
      "x111        -2.26e+06   5.34e+06     -0.423      0.672   -1.27e+07    8.22e+06\n",
      "x112       -2.242e+06    4.7e+06     -0.477      0.634   -1.15e+07    6.98e+06\n",
      "x113        4.318e+06   5.62e+06      0.768      0.443   -6.72e+06    1.54e+07\n",
      "x114         -4.3e+06   5.03e+06     -0.855      0.393   -1.42e+07    5.57e+06\n",
      "x115       -5.592e+05   5.03e+06     -0.111      0.911   -1.04e+07    9.31e+06\n",
      "x116       -7.627e+06   1.17e+07     -0.654      0.513   -3.05e+07    1.52e+07\n",
      "x117        -2.58e+06    4.7e+06     -0.549      0.583   -1.18e+07    6.65e+06\n",
      "x118       -7.976e+05   6.86e+06     -0.116      0.907   -1.43e+07    1.27e+07\n",
      "x119       -3.037e+06   4.71e+06     -0.644      0.520   -1.23e+07    6.22e+06\n",
      "x120       -2.074e+06   5.02e+06     -0.413      0.680   -1.19e+07    7.78e+06\n",
      "x121       -9.604e+04   5.33e+06     -0.018      0.986   -1.05e+07    1.04e+07\n",
      "x122        -4.57e+06   5.33e+06     -0.858      0.391    -1.5e+07    5.88e+06\n",
      "x123       -3.592e+05   4.72e+06     -0.076      0.939   -9.61e+06     8.9e+06\n",
      "x124         4.51e+05    4.7e+06      0.096      0.924   -8.77e+06    9.68e+06\n",
      "x125       -8.743e+05   4.71e+06     -0.186      0.853   -1.01e+07    8.36e+06\n",
      "x126        4.413e+06   5.02e+06      0.878      0.380   -5.45e+06    1.43e+07\n",
      "x127       -4.717e+05   5.03e+06     -0.094      0.925   -1.04e+07    9.41e+06\n",
      "x128       -1.307e+06   4.72e+06     -0.277      0.782   -1.06e+07    7.95e+06\n",
      "x129        9.416e+06    4.7e+06      2.002      0.046    1.84e+05    1.86e+07\n",
      "x130       -4.525e+05    4.7e+06     -0.096      0.923   -9.68e+06    8.77e+06\n",
      "x131        1.097e+06   9.48e+06      0.116      0.908   -1.75e+07    1.97e+07\n",
      "x132       -3.042e+06   5.02e+06     -0.606      0.545   -1.29e+07    6.82e+06\n",
      "x133       -2.441e+06   5.03e+06     -0.486      0.627   -1.23e+07    7.42e+06\n",
      "x134       -4.844e+05    4.7e+06     -0.103      0.918   -9.71e+06    8.74e+06\n",
      "x135       -3.231e+06   4.73e+06     -0.683      0.495   -1.25e+07    6.05e+06\n",
      "x136       -3.443e+06   4.73e+06     -0.728      0.467   -1.27e+07    5.83e+06\n",
      "x137       -5.823e+06   7.37e+06     -0.790      0.429   -2.03e+07    8.64e+06\n",
      "x138       -6.661e+06   5.34e+06     -1.248      0.212   -1.71e+07    3.81e+06\n",
      "x139       -1.217e+06   5.62e+06     -0.217      0.829   -1.22e+07    9.81e+06\n",
      "x140       -6.922e+06   6.88e+06     -1.006      0.315   -2.04e+07    6.58e+06\n",
      "x141       -1.503e+06    4.7e+06     -0.319      0.749   -1.07e+07    7.73e+06\n",
      "x142       -7.639e+06   8.31e+06     -0.919      0.358    -2.4e+07    8.68e+06\n",
      "x143        3.471e+05   5.61e+06      0.062      0.951   -1.07e+07    1.14e+07\n",
      "x144        -6.06e+06   5.03e+06     -1.204      0.229   -1.59e+07    3.82e+06\n",
      "x145       -2.326e+06   5.33e+06     -0.437      0.663   -1.28e+07    8.13e+06\n",
      "x146       -9.747e+06   9.05e+06     -1.077      0.282   -2.75e+07    8.01e+06\n",
      "x147       -4.045e+06   4.71e+06     -0.859      0.390   -1.33e+07    5.19e+06\n",
      "x148       -3.186e+06   4.73e+06     -0.674      0.500   -1.25e+07    6.09e+06\n",
      "x149        9.758e+06   4.72e+06      2.068      0.039    4.95e+05     1.9e+07\n",
      "x150         4.05e+06   5.04e+06      0.804      0.422   -5.84e+06    1.39e+07\n",
      "x151       -2.322e+06    4.7e+06     -0.494      0.622   -1.16e+07    6.91e+06\n",
      "x152       -3.818e+06   4.71e+06     -0.810      0.418   -1.31e+07    5.43e+06\n",
      "x153       -1.012e+07   1.33e+07     -0.760      0.447   -3.63e+07     1.6e+07\n",
      "x154        -1.27e+06   6.17e+06     -0.206      0.837   -1.34e+07    1.08e+07\n",
      "x155       -3.583e+05    4.7e+06     -0.076      0.939   -9.59e+06    8.87e+06\n",
      "x156       -1.872e+06   4.71e+06     -0.398      0.691   -1.11e+07    7.36e+06\n",
      "x157        -3.51e+06   5.04e+06     -0.697      0.486   -1.34e+07    6.38e+06\n",
      "x158       -4.571e+06   5.88e+06     -0.777      0.437   -1.61e+07    6.97e+06\n",
      "x159       -1.569e+05   4.71e+06     -0.033      0.973    -9.4e+06    9.08e+06\n",
      "x160       -9.589e+05    4.7e+06     -0.204      0.839   -1.02e+07    8.28e+06\n",
      "x161       -4.752e+06   6.16e+06     -0.772      0.440   -1.68e+07    7.33e+06\n",
      "x162       -9.329e+05    4.7e+06     -0.198      0.843   -1.02e+07     8.3e+06\n",
      "x163       -2.909e+06    4.7e+06     -0.619      0.536   -1.21e+07    6.32e+06\n",
      "x164       -1.472e+06   5.05e+06     -0.292      0.771   -1.14e+07    8.43e+06\n",
      "x165       -5.011e+06   5.04e+06     -0.994      0.320   -1.49e+07    4.88e+06\n",
      "x166       -1.436e+06   5.03e+06     -0.285      0.775   -1.13e+07    8.44e+06\n",
      "x167       -1.506e+06    7.1e+06     -0.212      0.832   -1.54e+07    1.24e+07\n",
      "x168       -3.417e+06   5.03e+06     -0.680      0.497   -1.33e+07    6.45e+06\n",
      "x169        2.165e+06   6.14e+06      0.352      0.725   -9.89e+06    1.42e+07\n",
      "x170       -4.108e+06   6.42e+06     -0.640      0.522   -1.67e+07    8.49e+06\n",
      "x171       -9.773e+05   5.62e+06     -0.174      0.862    -1.2e+07    1.01e+07\n",
      "x172       -1.701e+06   4.71e+06     -0.361      0.718    -1.1e+07    7.55e+06\n",
      "x173       -4.568e+05   5.33e+06     -0.086      0.932   -1.09e+07       1e+07\n",
      "x174       -9.223e+06   6.17e+06     -1.494      0.136   -2.13e+07    2.89e+06\n",
      "x175       -3.866e+06   6.65e+06     -0.582      0.561   -1.69e+07    9.18e+06\n",
      "x176       -6.723e+06   1.05e+07     -0.643      0.521   -2.73e+07    1.38e+07\n",
      "x177       -4.189e+06   5.64e+06     -0.742      0.458   -1.53e+07    6.88e+06\n",
      "x178        1.252e+07   5.32e+06      2.351      0.019    2.07e+06     2.3e+07\n",
      "x179        1.094e+06    4.7e+06      0.233      0.816   -8.13e+06    1.03e+07\n",
      "x180       -4.772e+06    4.7e+06     -1.015      0.310    -1.4e+07    4.45e+06\n",
      "x181        8.573e+06   4.72e+06      1.817      0.070   -6.87e+05    1.78e+07\n",
      "x182       -6.667e+06   6.89e+06     -0.967      0.334   -2.02e+07    6.86e+06\n",
      "x183       -4.821e+06   8.68e+06     -0.556      0.579   -2.18e+07    1.22e+07\n",
      "x184       -2.686e+06   5.03e+06     -0.534      0.594   -1.26e+07    7.19e+06\n",
      "x185       -2.565e+06   5.04e+06     -0.508      0.611   -1.25e+07    7.34e+06\n",
      "x186       -2.794e+06   5.03e+06     -0.555      0.579   -1.27e+07    7.09e+06\n",
      "x187        7.526e+05   5.02e+06      0.150      0.881   -9.11e+06    1.06e+07\n",
      "x188       -2.965e+06   5.02e+06     -0.590      0.555   -1.28e+07     6.9e+06\n",
      "x189       -1.228e+06    4.7e+06     -0.261      0.794   -1.05e+07       8e+06\n",
      "x190         6.89e+06   7.29e+06      0.945      0.345   -7.42e+06    2.12e+07\n",
      "x191       -2.116e+06   4.71e+06     -0.449      0.653   -1.14e+07    7.13e+06\n",
      "x192       -1.811e+06   5.63e+06     -0.322      0.748   -1.29e+07    9.24e+06\n",
      "x193        1.193e+06   5.03e+06      0.237      0.812   -8.67e+06    1.11e+07\n",
      "x194        1.152e+07      9e+06      1.281      0.201   -6.14e+06    2.92e+07\n",
      "x195       -2.605e+06   4.71e+06     -0.554      0.580   -1.18e+07    6.63e+06\n",
      "x196        4.838e+06   7.91e+06      0.612      0.541   -1.07e+07    2.04e+07\n",
      "x197       -3.365e+06   4.71e+06     -0.714      0.475   -1.26e+07    5.88e+06\n",
      "x198       -1.181e+06   4.72e+06     -0.250      0.802   -1.04e+07    8.08e+06\n",
      "x199       -2.576e+06   4.71e+06     -0.547      0.584   -1.18e+07    6.66e+06\n",
      "x200       -4.369e+06   4.72e+06     -0.926      0.355   -1.36e+07    4.89e+06\n",
      "x201       -2.903e+06    6.4e+06     -0.454      0.650   -1.55e+07    9.65e+06\n",
      "==============================================================================\n",
      "Omnibus:                      499.980   Durbin-Watson:                   1.410\n",
      "Prob(Omnibus):                  0.000   Jarque-Bera (JB):             6400.822\n",
      "Skew:                           1.792   Prob(JB):                         0.00\n",
      "Kurtosis:                      14.392   Cond. No.                         18.1\n",
      "==============================================================================\n",
      "\n",
      "Notes:\n",
      "[1] Standard Errors assume that the covariance matrix of the errors is correctly specified.\n"
     ]
    }
   ],
   "source": [
    "from sklearn.preprocessing import StandardScaler\n",
    "\n",
    "# Creating a copy of our final data\n",
    "model_df = final_movie_df.copy()\n",
    "# One-Hot Encoding for 'genres' and selecting relevant columns\n",
    "model_df = pd.get_dummies(model_df, columns=['genres'], drop_first=True)\n",
    "X = model_df[['production_budget', 'averagerating'] + [col for col in model_df.columns if col.startswith('genres_')]]\n",
    "y = model_df['gross_profit']\n",
    "# Scaling features\n",
    "scaler = StandardScaler()\n",
    "X_scaled = scaler.fit_transform(X)\n",
    "# Adding a constant\n",
    "X_scaled = sm.add_constant(X_scaled)\n",
    "# Fitting the model\n",
    "model = sm.OLS(y, X_scaled).fit()\n",
    "# Displaying the summary\n",
    "print(model.summary())"
   ]
  },
  {
   "cell_type": "markdown",
   "metadata": {},
   "source": [
    "- **R-squared and Adjusted R-squared**: The R-squared value of 0.595 indicates that the model explains approximately 59.5% of the variance in the gross_profit. The Adjusted R-squared, which adjusts for the number of predictors, is slightly lower at 0.502, **suggesting that some predictors may not contribute significantly to the model**.\n",
    "\n",
    "- **F-statistic and Prob (F-statistic)**: The F-statistic of 6.395 with a p-value of approximately 2.20 indicates that the overall model is statistically significant, meaning that **at least some of the predictor variables are related to the response variable gross_profit**.\n",
    "\n",
    "- **Coefficients** : The table of coefficients (coef), standard errors (std err), t-values (t), and p-values (P>|t|) shows the estimated effect of each predictor on gross_profit. A few points to note:\n",
    "\n",
    "The const term (intercept) has a significant positive coefficient, suggesting a baseline gross profit.\n",
    "Several predictors have significant coefficients (p-value < 0.05), **indicating that they have a statistically significant impact on gross_profit. For example, x1 (one of the genre categories) has a large positive coefficient, suggesting that this genre is associated with higher gross profits**.\n",
    "\n",
    "- **P-values and Significance**: Many predictors have p-values greater than 0.05, indicating that they are not statistically significant at the 5% level. This suggests that some predictors may not have a substantial impact on the response variable, or that the data does not provide strong evidence for their effect.\n",
    "\n",
    "- **Standard Errors and Confidence Intervals**: The standard errors provide a measure of the uncertainty associated with the coefficient estimates. The 95% confidence intervals for each coefficient give a range within which the true coefficient is likely to fall, considering the data and model."
   ]
  },
  {
   "cell_type": "markdown",
   "metadata": {},
   "source": [
    "### Final Project Submission¶\n",
    "Please fill out:\n",
    "\n",
    "- Student name: Stephen Nderitu Waweru\n",
    "- Student pace: full time\n",
    "- Scheduled project review date/time:\n",
    "- Instructor name:\n",
    "- Blog post URL:"
   ]
  }
 ],
 "metadata": {
  "kernelspec": {
   "display_name": "Python 3 (ipykernel)",
   "language": "python",
   "name": "python3"
  },
  "language_info": {
   "codemirror_mode": {
    "name": "ipython",
    "version": 3
   },
   "file_extension": ".py",
   "mimetype": "text/x-python",
   "name": "python",
   "nbconvert_exporter": "python",
   "pygments_lexer": "ipython3",
   "version": "3.11.7"
  }
 },
 "nbformat": 4,
 "nbformat_minor": 4
}
